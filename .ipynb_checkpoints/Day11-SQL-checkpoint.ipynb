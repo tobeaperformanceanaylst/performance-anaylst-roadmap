{
 "cells": [
  {
   "cell_type": "code",
   "execution_count": 54,
   "id": "98a3680b-8804-4894-a5a3-c46090f4f372",
   "metadata": {},
   "outputs": [],
   "source": [
    "# SQL 조건부 로직\n",
    "# NULL: NULL은 값이 비어있음을 의미함.\n",
    "# COALESCE: COALESCE(A, B)함수는 A의 값이 NULL이 아니면 A를 보여주고, 만약 NULL이면 B를 대신 보여줌\n",
    "\n",
    "# SELECT\n",
    "#   Name,\n",
    "#   COALESCE(Membership_Tier, 'Bronze') AS Tier -- Membership_Tier가 NULL이면 'Bronze'를 대신 사용\n",
    "# FROM\n",
    "#   Customers;\n",
    "\n",
    "# CASE WHEN(조건에 따라 값 바꾸기): SQL의 if-elif-else 구문임. 조건에 따라 데이터를 분류하고, 새로운 값을 만들어냄\n",
    "# SELECT\n",
    "#   Name,\n",
    "#   Total_Spend,\n",
    "#   CASE\n",
    "#       WHEN Total_Spend > 1000 THEN 'VIP'\n",
    "#       WHEN Total_Spend > 500 THEN 'High-Value'\n",
    "#       ELSE 'Standard'\n",
    "#   END AS Customer_Segment -- CASE문으로 만든 새로운 열의 이름\n",
    "#FROM\n",
    "#   Customers;"
   ]
  },
  {
   "cell_type": "code",
   "execution_count": 55,
   "id": "1480bc37-9eb1-41d7-b080-5d8cde44c96f",
   "metadata": {},
   "outputs": [
    {
     "ename": "IndentationError",
     "evalue": "unexpected indent (842450385.py, line 2)",
     "output_type": "error",
     "traceback": [
      "\u001b[0;36m  Cell \u001b[0;32mIn[55], line 2\u001b[0;36m\u001b[0m\n\u001b[0;31m    Name\u001b[0m\n\u001b[0m    ^\u001b[0m\n\u001b[0;31mIndentationError\u001b[0m\u001b[0;31m:\u001b[0m unexpected indent\n"
     ]
    }
   ],
   "source": [
    "SELECT\n",
    "    Name\n",
    "    COALESCE(Score, 0) AS Adjusted_Score\n",
    "    CASE\n",
    "        WHEN Attendance < 70 THEN 'F'\n",
    "        WHEN COALESCE(Score, 0) >= 90 THEN 'A'\n",
    "        WHEN COALESCE(Score, 0) >= 80 THEN 'B'\n",
    "        ELSE 'C'\n",
    "    END AS Final_Grade\n",
    "FROM\n",
    "    ExamScores"
   ]
  },
  {
   "cell_type": "code",
   "execution_count": null,
   "id": "dc54ace4-81ce-4e18-8a4a-7ce227055000",
   "metadata": {},
   "outputs": [],
   "source": [
    "import pandas as pd\n",
    "import numpy as np\n",
    "import seaborn as sns\n",
    "import matplotlib.pyplot as plt\n",
    "\n",
    "# 1. 데이터 준비\n",
    "data = {\n",
    "    'UserID': [1, 2, 3, 4, 5, 6, 7, 8],\n",
    "    'Last_Login_Date': ['2025-09-18', pd.NaT, '2025-09-15', '2025-08-20', '2025-09-17', '2025-09-02', pd.NaT, '2025-09-16'],\n",
    "    'Total_Sessions': [150, 25, 5, 80, 12, 9, 200, 60],\n",
    "    'Platform': ['iOS', 'Android', 'iOS', 'iOS', 'Android', 'iOS', 'Android', 'Android']\n",
    "}\n",
    "df_users = pd.DataFrame(data)\n",
    "df_users['Last_Login_Date'] = pd.to_datetime(df_users['Last_Login_Date'])\n",
    "\n",
    "\n",
    "# 1. 사용자 상태 분류 (`User_Status`) 열 추가하기\n",
    "# 분류 규칙을 담은 함수 정의\n",
    "def classify_user_status(row):\n",
    "    # 규칙 1: Last_Login_Date가 비어있으면 'Inactive'\n",
    "    if pd.isna(row['Last_Login_Date']):\n",
    "        return 'Inactive'\n",
    "    # 규칙 2: Total_Sessions에 따른 분류\n",
    "    elif row['Total_Sessions'] > 100:\n",
    "        return 'Power User'\n",
    "    elif row['Total_Sessions'] > 10:\n",
    "        return 'Active'\n",
    "    else:\n",
    "        return 'Newbie'\n",
    "\n",
    "# apply 함수를 사용해 User_Status 열 생성 (axis=1은 행 단위 적용)\n",
    "df_users['User_Status'] = df_users.apply(classify_user_status, axis=1)\n",
    "\n",
    "\n",
    "# 2. 데이터 타입 변환\n",
    "df_users['User_Status'] = df_users['User_Status'].astype('category')\n",
    "df_users['Platform'] = df_users['Platform'].astype('category')\n",
    "\n",
    "print(\"--- 데이터 가공 후 최종 확인 ---\")\n",
    "print(df_users)\n",
    "print(\"\\n--- 데이터 타입 확인 ---\")\n",
    "df_users.info()\n",
    "\n",
    "\n",
    "# 3. 시각화\n",
    "plt.figure(figsize=(10, 6))\n",
    "sns.countplot(x='Platform', hue='User_Status', data=df_users)\n",
    "plt.title('User Status Distribution by Platform')\n",
    "plt.xlabel('Platform')\n",
    "plt.ylabel('Number of Users')\n",
    "plt.show()"
   ]
  }
 ],
 "metadata": {
  "kernelspec": {
   "display_name": "Python [conda env:base] *",
   "language": "python",
   "name": "conda-base-py"
  },
  "language_info": {
   "codemirror_mode": {
    "name": "ipython",
    "version": 3
   },
   "file_extension": ".py",
   "mimetype": "text/x-python",
   "name": "python",
   "nbconvert_exporter": "python",
   "pygments_lexer": "ipython3",
   "version": "3.13.5"
  }
 },
 "nbformat": 4,
 "nbformat_minor": 5
}
