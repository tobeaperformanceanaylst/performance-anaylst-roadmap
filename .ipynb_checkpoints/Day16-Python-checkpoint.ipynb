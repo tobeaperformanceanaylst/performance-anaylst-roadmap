{
 "cells": [
  {
   "cell_type": "code",
   "execution_count": 53,
   "id": "bcb8e078-d2f2-4130-80b2-66e34bf4accd",
   "metadata": {},
   "outputs": [
    {
     "name": "stdout",
     "output_type": "stream",
     "text": [
      "상관 계수 (r): 1.0000\n",
      "p-value: 0.0000\n",
      "결론: 공부 시간과 시험 점수 사이에는 통계적으로 유의미한 상관관계가 있습니다.\n"
     ]
    }
   ],
   "source": [
    "# 상관계수(r): 관계의 강도와 방향\n",
    "# - r이 1에 가까울수록: 강한 양의 상관관계(하나가 증가하면, 다른 하나도 증가)\n",
    "# - r이 -1에 가까울수록: 강한 음의 상관관계(하나가 증가하면, 다른 하나는 감소)\n",
    "# - r이 0에 가까울수록: 선형 관계가 없음\n",
    "\n",
    "# p-value(유의확률): 두 변수 사이에 아무 관계가 없다는 가정 하에, 우리가 현재 가진 데이터와 같은 관계가 우연히 나타날 확률을 의미함\n",
    "# - p-value가 낮다 (일반적으로 0.05 미만): 우연히 나타날 확률이 매우 낮음으로, 이건 우연이 아닐 것.\n",
    "# - p-value가 높다 (일반적으로 0.05 이상): 우연히 나타날 수 있음으로, 진짜 관계가 있다고 확신하기 어려움.\n",
    "\n",
    "from scipy.stats import pearsonr\n",
    "import numpy as np\n",
    "\n",
    "# 데이터 준비: 공부 시간과 시험 점수\n",
    "study_hours = [2, 3, 5, 6, 8]\n",
    "exam_scores = [65, 70, 80, 85, 95]\n",
    "\n",
    "# 피어슨 상관계수와 p-value 계산\n",
    "correlation, p_value = pearsonr(study_hours, exam_scores)\n",
    "\n",
    "print(f\"상관 계수 (r): {correlation:.4f}\")\n",
    "print(f\"p-value: {p_value:.4f}\")\n",
    "\n",
    "if p_value < 0.05:\n",
    "    print(\"결론: 공부 시간과 시험 점수 사이에는 통계적으로 유의미한 상관관계가 있습니다.\")\n",
    "else:\n",
    "    print(\"결론: 상관관계가 통계적으로 유의미하지 않습니다 (우연일 수 있습니다).\")"
   ]
  },
  {
   "cell_type": "code",
   "execution_count": 57,
   "id": "38015125-fffb-4509-ad7d-25755c4226fc",
   "metadata": {},
   "outputs": [
    {
     "name": "stdout",
     "output_type": "stream",
     "text": [
      "상관 계수 (r): 0.9785\n",
      "p-value: 0.0000\n",
      "결론: 선수의 공격 중 마무리에 관여한 횟수가 많을수록, 효율성도 증가할 수 있음.\n"
     ]
    }
   ],
   "source": [
    "import pandas as pd\n",
    "from scipy.stats import pearsonr\n",
    "\n",
    "# 선수 데이터\n",
    "# Usage_Rate: 팀의 100번의 공격 중 해당 선수가 마무리에 관여한 횟수 (%)\n",
    "# PER (Player Efficiency Rating): 선수의 분당 생산성을 측정한 종합적인 효율성 지수\n",
    "data = {\n",
    "    'Player': ['Player A', 'Player B', 'Player C', 'Player D', 'Player E', 'Player F', 'Player G', 'Player H'],\n",
    "    'Usage_Rate': [18.2, 20.5, 22.1, 24.8, 26.3, 28.9, 31.5, 33.1],\n",
    "    'PER': [17.5, 19.1, 20.3, 22.5, 21.8, 24.5, 26.1, 25.5]\n",
    "}\n",
    "df_players = pd.DataFrame(data)\n",
    "\n",
    "# 피어슨 상관계수와 p-value 계산\n",
    "correlation, p_value = pearsonr(df_players[\"Usage_Rate\"], df_players[\"PER\"])\n",
    "\n",
    "print(f\"상관 계수 (r): {correlation:.4f}\")\n",
    "print(f\"p-value: {p_value:.4f}\")\n",
    "\n",
    "if p_value < 0.05:\n",
    "    print(\"결론: 선수의 공격 중 마무리에 관여한 횟수가 많을수록, 효율성도 증가할 수 있음.\")\n",
    "else:\n",
    "    print(\"결론: 상관관계가 통계적으로 유의미하지 않음 (우연일 수 있다).\")"
   ]
  },
  {
   "cell_type": "code",
   "execution_count": 60,
   "id": "6c724d6a-6677-4117-80b4-d1ddc26ce10a",
   "metadata": {},
   "outputs": [
    {
     "name": "stdout",
     "output_type": "stream",
     "text": [
      "T-statistic: 3.9094\n",
      "p-value: 0.0045\n",
      "결론: 두 팀의 평균 득점 차이는 통계적으로 유의미하다. 새로운 훈련 방식이 효과가 있다.\n"
     ]
    }
   ],
   "source": [
    "# T-test(두 그룹 평균 비교): A팀과 B팀의 평균 점수는 정말 다를까, 아니면 그냥 우연히 차이가 나 보이는 걸까?와 같은 질문에 답을 해줌\n",
    "# - p-value가 낮다 (일반적으로 0.05미만): 두 그룹의 평균이 실제로는 같다고 가정할 때, 이런 차이가 우연히 나타날 확률이 매우 낮다. 이건 우연이 아닐 것이다.\n",
    "# - p-value가 높다 (일반적으로 0.05이상): 두 그룹의 평균이 실제로는 같더라도, 이 정도의 차이는 우연히 발생할 수 있다.\n",
    "\n",
    "from scipy.stats import ttest_ind\n",
    "\n",
    "# 데이터 준비: 두 팀의 최근 5경기 득점\n",
    "team_A_scores = [110, 115, 120, 112, 118] # 새로운 훈련 방식 (평균: 115)\n",
    "team_B_scores = [105, 108, 102, 110, 105] # 기존 훈련 방식 (평균: 106)\n",
    "\n",
    "# 독립 표본 t-test 실행\n",
    "t_statistic, p_value = ttest_ind(team_A_scores, team_B_scores)\n",
    "\n",
    "print(f\"T-statistic: {t_statistic:.4f}\")  # -2 ~ +2 사이일 떼: 작은 값\n",
    "print(f\"p-value: {p_value:.4f}\")\n",
    "\n",
    "if p_value < 0.05:\n",
    "    print(\"결론: 두 팀의 평균 득점 차이는 통계적으로 유의미하다. 새로운 훈련 방식이 효과가 있다.\")\n",
    "else:\n",
    "    print(\"결론: 두 팀의 평균 득점 차이는 통계적으로 유의미하지 않습니다 (우연일 수 있다).\")"
   ]
  },
  {
   "cell_type": "code",
   "execution_count": 1,
   "id": "a9dd5227-bbf5-4b78-a40a-a0fc6e9ebf78",
   "metadata": {},
   "outputs": [
    {
     "name": "stdout",
     "output_type": "stream",
     "text": [
      "T-statistic: 3.7208\n",
      "p-value: 0.0059\n",
      "결론: 두 팀의 3점 슛 성공률 차이는 통계적으로 유의미하므로, 새로운 훈련법이 효과 있음.\n"
     ]
    }
   ],
   "source": [
    "from scipy.stats import ttest_ind\n",
    "\n",
    "# A 그룹 선수들의 3점 슛 성공 개수 (50개 중)\n",
    "group_A_success = [35, 38, 32, 39, 36]\n",
    "\n",
    "# B 그룹 선수들의 3점 슛 성공 개수 (50개 중)\n",
    "group_B_success = [28, 31, 25, 33, 29]\n",
    "\n",
    "t_statistic, p_value = ttest_ind(group_A_success, group_B_success)\n",
    "\n",
    "print(f\"T-statistic: {t_statistic:.4f}\")\n",
    "print(f\"p-value: {p_value:.4f}\")\n",
    "\n",
    "if p_value < 0.05:\n",
    "    print(\"결론: 두 팀의 3점 슛 성공률 차이는 통계적으로 유의미하므로, 새로운 훈련법이 효과 있음.\")\n",
    "else:\n",
    "    print(\"결론: 두 팀의 3점 슛 성공률 차이는 통계적으로 유의미하지 않으므로, 새로운 훈련법이 효과 없음.\")"
   ]
  },
  {
   "cell_type": "code",
   "execution_count": 4,
   "id": "a68874e7-94c6-40c2-bc20-49b2b0c4242b",
   "metadata": {},
   "outputs": [
    {
     "name": "stdout",
     "output_type": "stream",
     "text": [
      "--- 분할표 ---\n",
      "Platform  Facebook  Instagram\n",
      "Gender                       \n",
      "Female           3          2\n",
      "Male             1          4\n",
      "--------------------\n",
      "Chi-squared statistic: 0.4167\n",
      "p-value: 0.5186\n",
      "결론: 두 변수 사이에 연관성이 있다고 말하기 어렵습니다 (우연일 수 있습니다).\n"
     ]
    }
   ],
   "source": [
    "# 카이제곱 검정 (연관성 분석): 두 개의 카테고리형 변수 사이에 연관성이 있는지를 통계적으로 검증하는 방법.\n",
    "# ex) \"성별과 선호하는 SNS플랫폼 사이에 관계가 있을까?\", \"흡연 여부와 폐암 발병 여부 사이에 연관성이 있을까?\"\n",
    "\n",
    "# - p-value가 낮다 (0.05미만): 기대와 현실의 차이가 너무 커서 우연이라고 보기 어려움\n",
    "# - p-value가 높다 (0.05이상): 기대와 현실의 차이가 우연히 발생할 수 있는 범위 안에 있음\n",
    "\n",
    "import pandas as pd\n",
    "from scipy.stats import chi2_contingency\n",
    "\n",
    "data = {\n",
    "    'Gender': ['Male', 'Female', 'Male', 'Female', 'Male', 'Female', 'Male', 'Female', 'Male', 'Female'],\n",
    "    'Platform': ['Instagram', 'Facebook', 'Instagram', 'Instagram', 'Facebook', 'Facebook', 'Instagram', 'Instagram', 'Instagram', 'Facebook']\n",
    "}\n",
    "df_sns = pd.DataFrame(data)\n",
    "\n",
    "# 1. 분할표(Contingency Table) 생성\n",
    "contingency_table = pd.crosstab(df_sns['Gender'], df_sns['Platform'])\n",
    "print(\"--- 분할표 ---\")\n",
    "print(contingency_table)\n",
    "print(\"-\" * 20)\n",
    "\n",
    "# 2. 카이제곱 검정 실행\n",
    "chi2, p_value, _, _ = chi2_contingency(contingency_table)\n",
    "\n",
    "print(f\"Chi-squared statistic: {chi2:.4f}\")\n",
    "print(f\"p-value: {p_value:.4f}\")\n",
    "\n",
    "if p_value < 0.05:\n",
    "    print(\"결론: 성별과 선호하는 SNS 플랫폼 사이에는 통계적으로 유의미한 연관성이 있습니다.\")\n",
    "else:\n",
    "    print(\"결론: 두 변수 사이에 연관성이 있다고 말하기 어렵습니다 (우연일 수 있습니다).\")"
   ]
  },
  {
   "cell_type": "code",
   "execution_count": 5,
   "id": "29e1c1bd-0f8e-4e21-8f14-91c55e2aa3cb",
   "metadata": {},
   "outputs": [
    {
     "name": "stdout",
     "output_type": "stream",
     "text": [
      "--- contingency table ---\n",
      "Shot_Type  2-Pointer  3-Pointer\n",
      "Position                       \n",
      "Center             5          0\n",
      "Forward            3          1\n",
      "Guard              0          6\n",
      "------------------------------\n",
      "Chi_squared statistic: 11.9866\n",
      "p-value: 0.0025\n",
      "결론: 선수의 포지션과 슛 타입 선호도 사이에는 통계적으로 유의미한 연관성이 있음.\n"
     ]
    }
   ],
   "source": [
    "import pandas as pd\n",
    "from scipy.stats import chi2_contingency\n",
    "\n",
    "# 선수들의 슛 시도 기록\n",
    "data = {\n",
    "    'Player_ID': range(1, 16),\n",
    "    'Position': ['Guard', 'Center', 'Forward', 'Guard', 'Center', 'Forward', 'Guard', 'Center', 'Forward', 'Guard', 'Center', 'Forward', 'Guard', 'Center', 'Guard'],\n",
    "    'Shot_Type': ['3-Pointer', '2-Pointer', '2-Pointer', '3-Pointer', '2-Pointer', '3-Pointer', '3-Pointer', '2-Pointer', '2-Pointer', '3-Pointer', '2-Pointer', '2-Pointer', '3-Pointer', '2-Pointer', '3-Pointer']\n",
    "}\n",
    "df_shots = pd.DataFrame(data)\n",
    "\n",
    "contingency_table = pd.crosstab(df_shots['Position'], df_shots['Shot_Type'])\n",
    "print(\"--- contingency table ---\")\n",
    "print(contingency_table)\n",
    "print(\"-\" * 30)\n",
    "\n",
    "chi2, p_value, _, _ = chi2_contingency(contingency_table)\n",
    "\n",
    "print(f\"Chi_squared statistic: {chi2:.4f}\")\n",
    "print(f\"p-value: {p_value:.4f}\")\n",
    "\n",
    "if p_value < 0.05:\n",
    "    print(\"결론: 선수의 포지션과 슛 타입 선호도 사이에는 통계적으로 유의미한 연관성이 있음.\")\n",
    "else:\n",
    "    print(\"결론: 두 변수 사이에 연관성이 있다고 말하기 어려움 (우연일 수 있음).\")"
   ]
  }
 ],
 "metadata": {
  "kernelspec": {
   "display_name": "Python [conda env:base] *",
   "language": "python",
   "name": "conda-base-py"
  },
  "language_info": {
   "codemirror_mode": {
    "name": "ipython",
    "version": 3
   },
   "file_extension": ".py",
   "mimetype": "text/x-python",
   "name": "python",
   "nbconvert_exporter": "python",
   "pygments_lexer": "ipython3",
   "version": "3.13.5"
  }
 },
 "nbformat": 4,
 "nbformat_minor": 5
}
