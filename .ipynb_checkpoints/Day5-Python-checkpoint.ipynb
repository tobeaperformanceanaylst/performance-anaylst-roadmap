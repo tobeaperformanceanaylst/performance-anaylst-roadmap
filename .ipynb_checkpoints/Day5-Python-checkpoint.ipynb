{
 "cells": [
  {
   "cell_type": "code",
   "execution_count": 50,
   "id": "df510250-ff38-47ca-8808-17f19549fcc3",
   "metadata": {},
   "outputs": [
    {
     "name": "stdout",
     "output_type": "stream",
     "text": [
      "department\n",
      "HR       105000\n",
      "IT       175000\n",
      "Sales    150000\n",
      "Name: salary, dtype: int64\n"
     ]
    }
   ],
   "source": [
    "# GroupBy: 데이터를 특정 열(column)의 값에 따라 여러 그룹으로 나눈 뒤, 각 그룹에 대해 집계 함수를 적용하여 그룹별 통계 내는 기능\n",
    "# 1. 데이터를 .groupby('기준열')로 묶기\n",
    "# 2. 묶은 데이터를 ['계산할열']을 선택\n",
    "# 3. .sum(), .mean(), .count() 등의 집계 함수를 적용\n",
    "\n",
    "import pandas as pd\n",
    "\n",
    "data = {\n",
    "    'department': ['Sales', 'Sales', 'HR', 'HR', 'IT', 'IT'],\n",
    "    'name': ['Owen', 'Amy', 'John', 'Sue', 'Chris', 'Mia'],\n",
    "    'salary': [70000, 80000, 50000, 55000, 90000, 85000]\n",
    "}\n",
    "df = pd.DataFrame(data)\n",
    "\n",
    "# 'department' 열을 기준으로 그룹화한 뒤, 각 부서의 'salary' 합계를 계산\n",
    "department_salary_sum = df.groupby('department')['salary'].sum()\n",
    "\n",
    "print(department_salary_sum)"
   ]
  },
  {
   "cell_type": "code",
   "execution_count": 51,
   "id": "0ba6e528-e34a-4b5f-a308-1a26bff56b31",
   "metadata": {},
   "outputs": [
    {
     "name": "stdout",
     "output_type": "stream",
     "text": [
      "item\n",
      "Bread     1750.0\n",
      "Coffee    4750.0\n",
      "Milk      2750.0\n",
      "Name: price, dtype: float64\n"
     ]
    }
   ],
   "source": [
    "import pandas as pd\n",
    "\n",
    "data = {\n",
    "    'item': ['Coffee', 'Milk', 'Coffee', 'Bread', 'Milk', 'Bread'],\n",
    "    'price': [4500, 2500, 5000, 2000, 3000, 1500]\n",
    "}\n",
    "df = pd.DataFrame(data)\n",
    "\n",
    "avg_items = df.groupby('item')['price'].mean()\n",
    "\n",
    "print(avg_items)"
   ]
  }
 ],
 "metadata": {
  "kernelspec": {
   "display_name": "Python [conda env:base] *",
   "language": "python",
   "name": "conda-base-py"
  },
  "language_info": {
   "codemirror_mode": {
    "name": "ipython",
    "version": 3
   },
   "file_extension": ".py",
   "mimetype": "text/x-python",
   "name": "python",
   "nbconvert_exporter": "python",
   "pygments_lexer": "ipython3",
   "version": "3.13.5"
  }
 },
 "nbformat": 4,
 "nbformat_minor": 5
}
