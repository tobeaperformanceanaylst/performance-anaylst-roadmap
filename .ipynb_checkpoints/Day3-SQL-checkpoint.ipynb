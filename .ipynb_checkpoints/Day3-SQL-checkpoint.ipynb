{
 "cells": [
  {
   "cell_type": "code",
   "execution_count": 1,
   "id": "256d9442-0918-433c-acee-0e0786b577e5",
   "metadata": {},
   "outputs": [],
   "source": [
    "# 조건 조합하기: AND & OR\n",
    "# AND: 모든 조건이 참(True)이어야 할 때\n",
    "# OR: 하나 이상의 조건만 참(True)이면 될 때\n",
    "\n",
    "# Sales 부서이면서 연봉이 60000을 초과하는 직원 찾기\n",
    "# SELECT * FROM employees WHERE department = 'Sales' AND salary > 60000;\n",
    "\n",
    "# Marketing 부서이거나 HR 부서인 직원찾기\n",
    "# SELECT * FROM employees WHERE department = 'Marketing' OR department = 'HR';"
   ]
  },
  {
   "cell_type": "code",
   "execution_count": 2,
   "id": "ad6b966b-58c5-4868-9c6d-6e1997d0f341",
   "metadata": {},
   "outputs": [],
   "source": [
    "# 여러 조건 한 번에 처리하기: IN & NOT\n",
    "# IN: 여러 OR 조건을 사용할 때 쓰는 단축키\n",
    "# NOT: 조건을 반대로 뒤집음\n",
    "\n",
    "# Marketing, HR, Finance 중 하나에 포함되는 직원 찾기\n",
    "# SELECT * FROM employees WHERE department IN ('Marketing', 'HR', 'Finance');\n",
    "\n",
    "# Sales 부서가 아닌 모든 직원 찾기\n",
    "# SELECT * FROM employees WHERE department NOT IN ('Sales');"
   ]
  },
  {
   "cell_type": "code",
   "execution_count": 3,
   "id": "f8ae3903-6c5b-40fb-9797-bfda2eac5804",
   "metadata": {},
   "outputs": [],
   "source": [
    "#SELECT *\n",
    "#FROM employees\n",
    "#WHERE start_year >= 2020 AND (department = 'Engineering' OR department = 'Design');\n",
    "\n",
    "#SELECT *\n",
    "#FROM employees\n",
    "#WHERE start_year >= 2020 AND department IN ('Engineering', 'Design');"
   ]
  },
  {
   "cell_type": "code",
   "execution_count": null,
   "id": "8c99e57e-5f8e-4131-ad5c-2e530fbd3ddb",
   "metadata": {},
   "outputs": [],
   "source": [
    "# SELECT name, salary\n",
    "# FROM employees\n",
    "# WHERE department NOT IN ('HR')\n",
    "#   AND Salary >= 50000\n",
    "\n",
    "# 각 직원의 연봉을 내림차순으로 출력할 수 있습니다."
   ]
  }
 ],
 "metadata": {
  "kernelspec": {
   "display_name": "Python [conda env:base] *",
   "language": "python",
   "name": "conda-base-py"
  },
  "language_info": {
   "codemirror_mode": {
    "name": "ipython",
    "version": 3
   },
   "file_extension": ".py",
   "mimetype": "text/x-python",
   "name": "python",
   "nbconvert_exporter": "python",
   "pygments_lexer": "ipython3",
   "version": "3.13.5"
  }
 },
 "nbformat": 4,
 "nbformat_minor": 5
}
