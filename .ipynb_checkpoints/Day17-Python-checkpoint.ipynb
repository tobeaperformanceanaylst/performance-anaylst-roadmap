{
 "cells": [
  {
   "cell_type": "code",
   "execution_count": 65,
   "id": "8b142305-19b3-45f1-9393-67780792c7a2",
   "metadata": {},
   "outputs": [
    {
     "name": "stdout",
     "output_type": "stream",
     "text": [
      "[30 36 23 27 33 40]\n"
     ]
    }
   ],
   "source": [
    "# Numpy 배열 (Array): 모든 요소가 동일한 데이터 타입을 가지는, 행과 열로 이루어진 숫자 격자이다.\n",
    "# 핵심: 벡터화 연산 - for 반복문 없이 배열의 모든 요소에 대해 한 번에 연산을 적용하는 기능\n",
    "\n",
    "import numpy as np\n",
    "\n",
    "# 선수들의 경기별 득점 기록 (Python 리스트)\n",
    "scores_list = [25, 31, 18, 22, 28, 35]\n",
    "\n",
    "scores_array = np.array(scores_list) + 5\n",
    "\n",
    "print(scores_array)"
   ]
  },
  {
   "cell_type": "code",
   "execution_count": 66,
   "id": "75fe6051-cf77-47f6-9720-fc29695e8443",
   "metadata": {},
   "outputs": [],
   "source": [
    "# SciPy 통계 함수: NumPy를 확장하여 통계, 최적화, 신호 처리 등 더 복잡한 과학 및 공학 계산을 위한 함수들\n",
    "# 1. 상관 분석: scipy.stats.pearsanr() - 두 숫자 변수 사이의 상관계수와 p-value를 계산\n",
    "# 2. T-test: scipy.stats.ttest_ind() - 두 독립된 그룹의 평균값에 통계적으로 유의미한 차이가 있는지 검증\n",
    "# 3. 카이제곱 검정: scipy.stats.chi2_contingency() - 두 카테고리 변수 사이에 연관성이 있는지 검증"
   ]
  },
  {
   "cell_type": "code",
   "execution_count": 83,
   "id": "6fdb8b6a-0fb6-4e36-b1a4-c3dde3c312ac",
   "metadata": {},
   "outputs": [
    {
     "name": "stdout",
     "output_type": "stream",
     "text": [
      "상관 계수 (r): 0.9956\n",
      "p-value: 0.0000\n",
      "------------------------------\n",
      "결론: 선수의 키와 경기당 평균 리바운드 개수는 유의미한 관계가 있음.\n"
     ]
    }
   ],
   "source": [
    "from scipy.stats import pearsonr\n",
    "\n",
    "# 선수의 키 (cm)\n",
    "heights = [190, 195, 200, 205, 210, 215]\n",
    "\n",
    "# 경기당 평균 리바운드 개수\n",
    "rebounds_per_game = [5.5, 6.1, 7.2, 7.8, 8.5, 9.1]\n",
    "\n",
    "correlation, p_value = pearsonr(heights, rebounds_per_game)\n",
    "\n",
    "print(f\"상관 계수 (r): {correlation:.4f}\")\n",
    "print(f\"p-value: {p_value:.4f}\")\n",
    "print(\"-\" * 30)\n",
    "\n",
    "if p_value < 0.05:\n",
    "    print(\"결론: 선수의 키와 경기당 평균 리바운드 개수는 유의미한 관계가 있음.\")\n",
    "else:\n",
    "    print(\"우연일 가능성이 큼\")"
   ]
  },
  {
   "cell_type": "code",
   "execution_count": 82,
   "id": "ed565446-b278-4162-b2a0-90aeb80b0c55",
   "metadata": {},
   "outputs": [
    {
     "name": "stdout",
     "output_type": "stream",
     "text": [
      "t-test: 3.5355\n",
      "p-value: 0.0077\n",
      "------------------------------\n",
      "결론: 브랜드별 농구화와 선수들의 수직 점프 높이는 유의미한 관계가 있음.\n"
     ]
    }
   ],
   "source": [
    "from scipy.stats import ttest_ind\n",
    "\n",
    "# A 브랜드 농구화를 신은 선수들의 수직 점프 높이 (cm)\n",
    "brand_A_jumps = [75, 78, 81, 79, 82]\n",
    "\n",
    "# B 브랜드 농구화를 신은 선수들의 수직 점프 높이 (cm)brand_B_jumps = [72, 74, 75, 76, 73]\n",
    "\n",
    "t_statistic, p_value = ttest_ind(brand_A_jumps, brand_B_jumps)\n",
    "\n",
    "print(f\"t-test: {t_statistic:.4f}\")\n",
    "print(f\"p-value: {p_value:.4f}\")\n",
    "print(\"-\" * 30)\n",
    "\n",
    "if p_value < 0.05:\n",
    "    print(\"결론: 브랜드별 농구화와 선수들의 수직 점프 높이는 유의미한 관계가 있음.\")\n",
    "else:\n",
    "    print(\"결론: 두 변수 사이에 유의미한 관계가 없음. 즉, 우연일 수 있음.\")  "
   ]
  },
  {
   "cell_type": "code",
   "execution_count": 84,
   "id": "963a016e-a30c-4323-bc4a-e4ff1d8c75ab",
   "metadata": {},
   "outputs": [
    {
     "name": "stdout",
     "output_type": "stream",
     "text": [
      "--- 분할표 ---\n",
      "Dominant_Hand  Left  Right\n",
      "Position                  \n",
      "Forward           1      4\n",
      "Guard             1      4\n",
      "------------------------------\n",
      "Chi-squared statistic: 0.0000\n",
      "p-value: 1.0000\n",
      "결론: 두 변수 사이에 유의미한 관계가 없음. 즉, 우연일 수 있음\n"
     ]
    }
   ],
   "source": [
    "from scipy.stats import chi2_contingency\n",
    "import pandas as pd\n",
    "\n",
    "data = {\n",
    "    'Position': ['Guard', 'Guard', 'Guard', 'Guard', 'Forward', 'Forward', 'Forward', 'Forward', 'Forward', 'Guard'],\n",
    "    'Dominant_Hand': ['Right', 'Right', 'Left', 'Right', 'Right', 'Right', 'Right', 'Left', 'Right', 'Right']\n",
    "}\n",
    "df_players = pd.DataFrame(data)\n",
    "\n",
    "contingency_table = pd.crosstab(df_players[\"Position\"], df_players[\"Dominant_Hand\"])\n",
    "print(\"--- 분할표 ---\")\n",
    "print(contingency_table)\n",
    "print(\"-\" * 30)\n",
    "\n",
    "chi2, p_value, _, _ = chi2_contingency(contingency_table)\n",
    "\n",
    "print(f\"Chi-squared statistic: {chi2:.4f}\")\n",
    "print(f\"p-value: {p_value:.4f}\")\n",
    "\n",
    "if p_value < 0.05:\n",
    "    print(\"결론: 포지션과 주로 사용하는 손 사이에 통계적으로 유의미한 관계가 있음\")\n",
    "else:\n",
    "    print(\"결론: 두 변수 사이에 유의미한 관계가 없음. 즉, 우연일 수 있음\")"
   ]
  }
 ],
 "metadata": {
  "kernelspec": {
   "display_name": "Python [conda env:base] *",
   "language": "python",
   "name": "conda-base-py"
  },
  "language_info": {
   "codemirror_mode": {
    "name": "ipython",
    "version": 3
   },
   "file_extension": ".py",
   "mimetype": "text/x-python",
   "name": "python",
   "nbconvert_exporter": "python",
   "pygments_lexer": "ipython3",
   "version": "3.13.5"
  }
 },
 "nbformat": 4,
 "nbformat_minor": 5
}
