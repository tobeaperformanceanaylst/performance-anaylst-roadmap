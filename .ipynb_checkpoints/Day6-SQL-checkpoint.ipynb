{
 "cells": [
  {
   "cell_type": "code",
   "execution_count": 86,
   "id": "7c2450e6-8ceb-4312-9da4-94caf803ec7f",
   "metadata": {},
   "outputs": [],
   "source": [
    "# SQL - 비어있는 데이터(NULL) 디루기\n",
    "# 데이터베이스에서 비어있는 값을 NULL이라고 부름. 값이 존재하지 않는 상태\n",
    "\n",
    "# NULL 값 찾아내기: IS NULL & IS NOT NULL\n",
    "# * NULL은 특별한 값이라 등호(=)로 비교불가. 반드시 IS 키워드 사용해야 함\n",
    "# - WHERE colum_name IS NULL: 해당 열의 값이 비어있는 행을 찾음\n",
    "# - WHERE colum_name IS NOT NULL: 해당 열의 값이 비어있지 않은 행을 찾음\n",
    "\n",
    "# manager_id가 비어있는 직원 찾기\n",
    "# SELECT * FROM employees WHERE manager_id IS NULL;"
   ]
  },
  {
   "cell_type": "code",
   "execution_count": 87,
   "id": "6be9140b-2011-40e0-8dd1-86a0a31c0208",
   "metadata": {},
   "outputs": [],
   "source": [
    "# NULL 값 대체하기: COALESCE\n",
    "# COALESCE: NULL 값을 다른 값으로 대체해서 보고 싶을 때\n",
    "# COALESCE(A, B): 만약 A가 NULL이 아니면 A를 보여주고, A가 NULL이면 대신 B를 보여줘\n",
    "\n",
    "# 만약 bonus_rate가 NULL이면 0으로 표시해줘\n",
    "# SELECT name, COALESCE(bonus_rate, 0)\n",
    "# FROM products;"
   ]
  },
  {
   "cell_type": "code",
   "execution_count": 88,
   "id": "32e2c472-c227-42ad-b669-7165ab8104d6",
   "metadata": {},
   "outputs": [],
   "source": [
    "# SELECT * FROM products\n",
    "# WHERE discount_rate IS NULL;\n",
    "\n",
    "# SELECT product_name, COALESCE(discount_rate, 0)\n",
    "# FROM products;"
   ]
  },
  {
   "cell_type": "code",
   "execution_count": 89,
   "id": "4479a4db-43e0-4c8a-b1bf-f38897faaf2c",
   "metadata": {},
   "outputs": [],
   "source": [
    "# 1. 조건으로 골라내기 (필터링)\n",
    "#   - Pandas: df[df['city'] == 'Seoul']\n",
    "#   - SQL: WHERE city = 'Seoul'\n",
    "\n",
    "# 2. 비어있는 값 대체하 (결측치 처리)\n",
    "#   - Pandas: df['score'].fillna(0)\n",
    "#   - SQL: COALESCE(score, 0)"
   ]
  }
 ],
 "metadata": {
  "kernelspec": {
   "display_name": "Python [conda env:base] *",
   "language": "python",
   "name": "conda-base-py"
  },
  "language_info": {
   "codemirror_mode": {
    "name": "ipython",
    "version": 3
   },
   "file_extension": ".py",
   "mimetype": "text/x-python",
   "name": "python",
   "nbconvert_exporter": "python",
   "pygments_lexer": "ipython3",
   "version": "3.13.5"
  }
 },
 "nbformat": 4,
 "nbformat_minor": 5
}
