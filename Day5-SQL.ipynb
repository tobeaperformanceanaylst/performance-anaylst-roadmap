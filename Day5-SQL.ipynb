{
 "cells": [
  {
   "cell_type": "code",
   "execution_count": 52,
   "id": "4efb2b7d-1b58-4126-8e7e-c7fa028fe953",
   "metadata": {},
   "outputs": [],
   "source": [
    "# GROUP BY - 데이터베잉스에서 직접 그룹화\n",
    "# SQL의 GROUP BY절은 특정 열의 값이 같은 행들을 하나의 그룹으로 묶어, 각 그룹에 대한 집계를 계산하는 데 사용함\n",
    "# * GROUP BY를 사용할 때, SELECT 절에는 그룹화의 기준이 된 열과 집계 함수만 올 수 있음.\n",
    "\n",
    "# employees 테이블을 department 열 기준으로 그룹화, 각 그룹의 salary 총합을 계산\n",
    "# SELECT department, SUM(salary)\n",
    "# FROM employees\n",
    "# GROUP BY department;\n",
    "\n",
    "# 그룹에 조건 걸기 - HAVING\n",
    "# - WHERE가 그룹화 전 개별 행을 필터링하는 반면, HAVING은 그룹화 후의 결과를 필터링함\n",
    "\n",
    "# 각 부서별 총 연봉 합계가 120000을 초과하는 부서만 찾기\n",
    "# SELECT department, SUM(salary)\n",
    "# FROM employees\n",
    "# GROUP BY department\n",
    "# HAVING SUM(salary) > 120000;\n",
    "\n",
    "# practice\n",
    "# SELECT item, AVG(price)\n",
    "# FROM sales\n",
    "# GROUP BY item;"
   ]
  },
  {
   "cell_type": "code",
   "execution_count": null,
   "id": "5d038d6b-84ea-4c7e-a118-b3cd9fee8070",
   "metadata": {},
   "outputs": [],
   "source": [
    "# Python과 SQL\n",
    "# GROUP BY item과 .groupby('item'): item을 기준으로 그룹을 나눠줘!\n",
    "# AVG(price)와 ['price'].mean(): 각 그룹의 price 평균을 구해줘\n",
    "\n",
    "# Python\n",
    "# max_salery = df.groupby('department')['salary'].max()\n",
    "\n",
    "# SQL\n",
    "# SELECT department, MAX(salary)\n",
    "# FROM employees\n",
    "# GROUP BY department;"
   ]
  }
 ],
 "metadata": {
  "kernelspec": {
   "display_name": "Python [conda env:base] *",
   "language": "python",
   "name": "conda-base-py"
  },
  "language_info": {
   "codemirror_mode": {
    "name": "ipython",
    "version": 3
   },
   "file_extension": ".py",
   "mimetype": "text/x-python",
   "name": "python",
   "nbconvert_exporter": "python",
   "pygments_lexer": "ipython3",
   "version": "3.13.5"
  }
 },
 "nbformat": 4,
 "nbformat_minor": 5
}
