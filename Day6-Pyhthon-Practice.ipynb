{
 "cells": [
  {
   "cell_type": "code",
   "execution_count": 73,
   "id": "1b7d99c8-2943-4809-8150-129f2987125d",
   "metadata": {},
   "outputs": [
    {
     "name": "stdout",
     "output_type": "stream",
     "text": [
      "  student  score\n",
      "0    Owen   85.0\n",
      "1     Amy   92.0\n",
      "2     Sue    0.0\n",
      "3    John   78.0\n"
     ]
    }
   ],
   "source": [
    "import pandas as pd\n",
    "import numpy as np\n",
    "\n",
    "# 'Sue'의 점수가 비어있는 데이터\n",
    "data = {\n",
    "    'student': ['Owen', 'Amy', 'Sue', 'John'],\n",
    "    'score': [85, 92, np.nan, 78]\n",
    "}\n",
    "df_mission1 = pd.DataFrame(data)\n",
    "\n",
    "# 미션: 비어있는 score를 0으로 채우고 결과를 출력하세요.\n",
    "\n",
    "df_filled = df_mission1.copy()\n",
    "\n",
    "df_filled['score'] = df_filled['score'].fillna(0)\n",
    "\n",
    "print(df_filled)"
   ]
  },
  {
   "cell_type": "code",
   "execution_count": 76,
   "id": "aecc4e96-3cfd-4388-8406-72f0ed0fa90c",
   "metadata": {},
   "outputs": [
    {
     "name": "stdout",
     "output_type": "stream",
     "text": [
      "   product_id   price category\n",
      "0         101  1500.0    Fruit\n",
      "2         103   800.0      NaN\n",
      "3         104  2200.0    Drink\n"
     ]
    }
   ],
   "source": [
    "import pandas as pd\n",
    "import numpy as np\n",
    "\n",
    "data = {\n",
    "    'product_id': [101, 102, 103, 104],\n",
    "    'price': [1500, np.nan, 800, 2200],\n",
    "    'category': ['Fruit', 'Snack', np.nan, 'Drink']\n",
    "}\n",
    "df_mission2 = pd.DataFrame(data)\n",
    "\n",
    "# 미션: 'price'가 비어있는 행만 제거하고 결과를 출력하세요.\n",
    "# 힌트: dropna() 메소드에는 특정 열만 검사하는 'subset' 옵션이 있습니다: df.dropna(subset=['열이름'])\n",
    "df_remove = df_mission2.dropna(subset=['price'])\n",
    "\n",
    "print(df_remove)"
   ]
  },
  {
   "cell_type": "code",
   "execution_count": 85,
   "id": "340a58b4-faf1-4e23-be08-e3a3dd581652",
   "metadata": {},
   "outputs": [
    {
     "name": "stdout",
     "output_type": "stream",
     "text": [
      "    city  temp\n",
      "0  Seoul  18.0\n",
      "1  Busan  22.0\n",
      "2  Seoul  16.0\n",
      "3  Busan  23.0\n",
      "4  Seoul  17.0\n",
      "5  Busan  24.0\n"
     ]
    }
   ],
   "source": [
    "import pandas as pd\n",
    "import numpy as np\n",
    "\n",
    "data = {\n",
    "    'city': ['Seoul', 'Busan', 'Seoul', 'Busan', 'Seoul', 'Busan'],\n",
    "    'temp': [18, 22, 16, np.nan, np.nan, 24]\n",
    "}\n",
    "df_mission3 = pd.DataFrame(data)\n",
    "\n",
    "# 미션: 각 도시의 비어있는 'temp'를 해당 도시의 평균 온도로 채우세요.\n",
    "# 힌트: 5일차에 배운 groupby()와 6일차에 배운 fillna()를 조합해야 합니다.\n",
    "#       groupby().transform('mean')을 사용하는 방법이 있습니다.\n",
    "\n",
    "# 1. transform('mean')을 사용해 각 행에 맞는 그룹별 평균값을 생성합니다.\n",
    "city_mean_transformed = df_mission3.groupby('city')['temp'].transform('mean')\n",
    "# city_mean_transformed의 결과는 [17.0, 23.0, 17.0, 23.0, 17.0, 23.0] 와 같은 형태가 됩니다.\n",
    "\n",
    "# 2. transform으로 얻은 결과로 결측치를 채웁니다.\n",
    "df_mission3['temp'] = df_mission3['temp'].fillna(city_mean_transformed)\n",
    "\n",
    "print(df_mission3)"
   ]
  }
 ],
 "metadata": {
  "kernelspec": {
   "display_name": "Python [conda env:base] *",
   "language": "python",
   "name": "conda-base-py"
  },
  "language_info": {
   "codemirror_mode": {
    "name": "ipython",
    "version": 3
   },
   "file_extension": ".py",
   "mimetype": "text/x-python",
   "name": "python",
   "nbconvert_exporter": "python",
   "pygments_lexer": "ipython3",
   "version": "3.13.5"
  }
 },
 "nbformat": 4,
 "nbformat_minor": 5
}
