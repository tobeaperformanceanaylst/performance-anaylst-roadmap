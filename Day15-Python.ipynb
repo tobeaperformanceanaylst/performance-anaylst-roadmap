{
 "cells": [
  {
   "cell_type": "code",
   "execution_count": 32,
   "id": "26098fa2-c45d-45ea-a7e3-dcc665ea112a",
   "metadata": {},
   "outputs": [],
   "source": [
    "# 1. pd.merge(): 두 개의 다른 데이터에서 공동된 정도(Key)를 찾아, 그 정보를 기준으로 두 데이터를 하나로 합치는 방식.\n",
    "# how = 'inner': 두 데이터프레임에 모두 공통으로 존재하는 KEY를 가진 데이너만 남김.\n",
    "# how = 'left': 먼저 오는 왼쪽 데이터프레임의 모든 데이터를 기준으로 삼고, 오른쪽 데이터에 일치하는 정보가 있으면 가져오고, 없으면 NaN으로 채움\n",
    "# how = 'right': 나중에 오는 오른쪽 데이터프레임의 모든 데이터를 기준으로 삼음. left 반대.\n",
    "# how = 'outer': 어느 한 쪽에라도 존재하는 모든 Key의 데이터를ㄹ 남김, 양쪽 데이터를 모두 보존 하고 싶을 때 사용함.\n",
    "\n",
    "# 2. pd.concat (): 여러 개의 데이터를 단순히 위아래로 쌓거나, 양옆으로 나란히 붙이는 방식.\n",
    "# 2-1. 수직 결합 (위아래로 이어 붙이기), 기본값: axis=0\n",
    "# 2-2. 수평 결합 (양옆으로 이어 붙이기), axis=1"
   ]
  },
  {
   "cell_type": "code",
   "execution_count": 49,
   "id": "d0dcecb5-e4e1-4894-ad5d-60227703e3fd",
   "metadata": {},
   "outputs": [
    {
     "name": "stdout",
     "output_type": "stream",
     "text": [
      "      Name   City OrderID\n",
      "0    Alice  Seoul      O1\n",
      "1    Alice  Seoul      O3\n",
      "2  Charlie  Seoul      O2\n",
      "      Name OrderID\n",
      "0    Alice      O1\n",
      "1    Alice      O3\n",
      "2      Bob     NaN\n",
      "3  Charlie      O2\n",
      "4    David     NaN\n",
      "  OrderID     Name\n",
      "0      O1    Alice\n",
      "1      O2  Charlie\n",
      "2      O3    Alice\n",
      "3      O4      NaN\n",
      "      Name ProductName  Price\n",
      "0    Alice    Keyboard     50\n",
      "1  Charlie       Mouse     25\n",
      "2    Alice     Monitor    200\n"
     ]
    }
   ],
   "source": [
    "import pandas as pd\n",
    "\n",
    "# 1. 고객 정보\n",
    "df_customers = pd.DataFrame({\n",
    "    'CustomerID': [1, 2, 3, 4],\n",
    "    'Name': ['Alice', 'Bob', 'Charlie', 'David'],\n",
    "    'City': ['Seoul', 'Busan', 'Seoul', 'Incheon']\n",
    "})\n",
    "\n",
    "# 2. 주문 내역 (CustomerID 2번 고객은 주문 X, 5번 고객은 비회원 주문)\n",
    "df_orders = pd.DataFrame({\n",
    "    'OrderID': ['O1', 'O2', 'O3', 'O4'],\n",
    "    'CustomerID': [1, 3, 1, 5],\n",
    "    'ProductID': ['P101', 'P102', 'P103', 'P101']\n",
    "})\n",
    "\n",
    "# 3. 상품 정보 (P104 상품은 주문된 적 없음)\n",
    "df_products = pd.DataFrame({\n",
    "    'ProductID': ['P101', 'P102', 'P103', 'P104'],\n",
    "    'ProductName': ['Keyboard', 'Mouse', 'Monitor', 'Webcam'],\n",
    "    'Price': [50, 25, 200, 60]\n",
    "})\n",
    "\n",
    "df_inner_join = pd.merge(df_customers, df_orders, how='inner', on='CustomerID')\n",
    "print(df_inner_join[['Name', 'City', 'OrderID']])\n",
    "\n",
    "df_left_join = pd.merge(df_customers, df_orders, how='left', on='CustomerID')\n",
    "print(df_left_join[['Name', 'OrderID']])\n",
    "\n",
    "df_right_join = pd.merge(df_customers, df_orders, how='right', on='CustomerID')\n",
    "print(df_right_join[['OrderID', 'Name']])\n",
    "\n",
    "df_order_customer = pd.merge(df_orders, df_customers, on='CustomerID', how='inner')\n",
    "df_final_details = pd.merge(df_order_customer, df_products, on='ProductID', how='inner')\n",
    "\n",
    "print(df_final_details[['Name', 'ProductName', 'Price']])"
   ]
  },
  {
   "cell_type": "code",
   "execution_count": 50,
   "id": "1edec8e7-1731-428e-8af6-f68d37820648",
   "metadata": {},
   "outputs": [
    {
     "name": "stdout",
     "output_type": "stream",
     "text": [
      "         Date Product_ID  Amount\n",
      "0  2025-10-01       P101     150\n",
      "1  2025-10-01       P102     220\n",
      "2  2025-10-02       P103     180\n",
      "3  2025-10-01       P103     200\n",
      "4  2025-10-02       P101     160\n",
      "5  2025-10-02       P102     210\n"
     ]
    }
   ],
   "source": [
    "import pandas as pd\n",
    "\n",
    "# 온라인 판매 기록\n",
    "df_online = pd.DataFrame({\n",
    "    'Date': ['2025-10-01', '2025-10-01', '2025-10-02'],\n",
    "    'Product_ID': ['P101', 'P102', 'P103'],\n",
    "    'Amount': [150, 220, 180]\n",
    "})\n",
    "\n",
    "# 오프라인 매장 판매 기록\n",
    "df_offline = pd.DataFrame({\n",
    "    'Date': ['2025-10-01', '2025-10-02', '2025-10-02'],\n",
    "    'Product_ID': ['P103', 'P101', 'P102'],\n",
    "    'Amount': [200, 160, 210]\n",
    "})\n",
    "\n",
    "df_total_sales = pd.concat([df_online, df_offline], ignore_index=True)\n",
    "\n",
    "print(df_total_sales)"
   ]
  }
 ],
 "metadata": {
  "kernelspec": {
   "display_name": "Python [conda env:base] *",
   "language": "python",
   "name": "conda-base-py"
  },
  "language_info": {
   "codemirror_mode": {
    "name": "ipython",
    "version": 3
   },
   "file_extension": ".py",
   "mimetype": "text/x-python",
   "name": "python",
   "nbconvert_exporter": "python",
   "pygments_lexer": "ipython3",
   "version": "3.13.5"
  }
 },
 "nbformat": 4,
 "nbformat_minor": 5
}
