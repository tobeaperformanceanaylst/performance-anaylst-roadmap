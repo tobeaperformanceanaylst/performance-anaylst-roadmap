{
 "cells": [
  {
   "cell_type": "code",
   "execution_count": 27,
   "id": "f4604512-01d3-4dd5-a11d-aabb34c73a06",
   "metadata": {},
   "outputs": [],
   "source": [
    "# SQL - 원하는 데이터만 골라내기 (WHERE, LIKE)\n",
    "\n",
    "# WHERE - 필터링을 담당하는 가장 중요한 SQL 문법 중 하나\n",
    "#       - FROM으로 가져올 테이블을 정한 뒤, 특정 조건을 만족하는 행(row)만 걸러내는 필터\n",
    "\n",
    "# LIKE - 패턴으로 필터링\n",
    "#      - WHERE 절 안에서, 이메일 주소 'gmail'이 포함된 사람을 찾거나, '김'씨 성을 가진 사람을 찾는 등\n",
    "#        글자에 특정 패턴이 포함된 데이터를 찾고 싶을 때\n",
    "# %: 0개 이상의 모든 문자를 의미하는 만능카드\n",
    "# _: 정확히 1개의 문자를 의미\n",
    "\n",
    "# 'A%' - 'A'로 시작하는 모든 단어\n",
    "# '%A' - 'A'로 끝나는 모든 단어\n",
    "# '%A%' - 'A'를 포함하는 모든 단어\n",
    "\n",
    "# 'A_' - 'A'로 시작하는 두 글자 단어 ex) AB, AC, AZ...\n",
    "# '_A' - 'A'로 끝나는 두 글 단어 ex) BA, CA, ZA...\n",
    "# 'A_A' - 'A'로 시작하고 'A'로 끝나는 세 글자 단어 ex) ABA, ACA, AZA..."
   ]
  },
  {
   "cell_type": "code",
   "execution_count": 29,
   "id": "42481b75-3993-4a94-8f5b-a4f926e8b124",
   "metadata": {},
   "outputs": [],
   "source": [
    "# '마케팅'부서의 모든 직원 찾기\n",
    "# SELECT * FROM employees WHERE department = 'Marketing';\n",
    "# 1990년 이후에 태어난 모든 직원 찾기\n",
    "# SELECT * FROM employees WHERE birth_year >= 1990;\n",
    "# '영업(Sales)'부서이면서, 연봉(salary)이 50000 이상인 직원 찾기\n",
    "# SELECT * FROM employees WHERE department = 'Sales' AND salary >= 50000;\n",
    "# 이메일이 .com으로 끝나는 모든 직원 찾기\n",
    "# SELECT * FROM employees WHERE email LIKE '%.com';\n",
    "# 이름이 'J'로 시작하는 모든 직원 찾기\n",
    "# SELECT * FROM employees WHERE first_name LIKE 'J%';"
   ]
  },
  {
   "cell_type": "code",
   "execution_count": null,
   "id": "dd1c76d6-d04c-4fcb-9c0f-302f54b22a8b",
   "metadata": {},
   "outputs": [],
   "source": [
    "# Practice\n",
    "\n",
    "# SELECT * FROM products WHERE category = 'Electronics' AND price >= 1000;\n",
    "\n",
    "# SELECT * FROM products WHERE product_name LIKE '%Galaxy%';"
   ]
  },
  {
   "cell_type": "code",
   "execution_count": null,
   "id": "2c051f74-aa67-4a57-b19a-ce80a13c4071",
   "metadata": {},
   "outputs": [],
   "source": [
    "# def get_price_tag(price):\n",
    "\n",
    "#   if price >= 50000:\n",
    "#       return(\"It is Hight-Price\")\n",
    "\n",
    "#   else:\n",
    "#       return(\"It is Regular-Price\")\n",
    "\n",
    "# SELECT product_name, price\n",
    "# FROM products\n",
    "# WHERE category = 'Clothing'"
   ]
  }
 ],
 "metadata": {
  "kernelspec": {
   "display_name": "Python [conda env:base] *",
   "language": "python",
   "name": "conda-base-py"
  },
  "language_info": {
   "codemirror_mode": {
    "name": "ipython",
    "version": 3
   },
   "file_extension": ".py",
   "mimetype": "text/x-python",
   "name": "python",
   "nbconvert_exporter": "python",
   "pygments_lexer": "ipython3",
   "version": "3.13.5"
  }
 },
 "nbformat": 4,
 "nbformat_minor": 5
}
