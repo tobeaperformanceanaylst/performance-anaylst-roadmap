{
 "cells": [
  {
   "cell_type": "code",
   "execution_count": 65,
   "id": "8b142305-19b3-45f1-9393-67780792c7a2",
   "metadata": {},
   "outputs": [
    {
     "name": "stdout",
     "output_type": "stream",
     "text": [
      "[30 36 23 27 33 40]\n"
     ]
    }
   ],
   "source": [
    "# Numpy 배열 (Array): 모든 요소가 동일한 데이터 타입을 가지는, 행과 열로 이루어진 숫자 격자이다.\n",
    "# 핵심: 벡터화 연산 - for 반복문 없이 배열의 모든 요소에 대해 한 번에 연산을 적용하는 기능\n",
    "\n",
    "import numpy as np\n",
    "\n",
    "# 선수들의 경기별 득점 기록 (Python 리스트)\n",
    "scores_list = [25, 31, 18, 22, 28, 35]\n",
    "\n",
    "scores_array = np.array(scores_list) + 5\n",
    "\n",
    "print(scores_array)"
   ]
  },
  {
   "cell_type": "code",
   "execution_count": 66,
   "id": "75fe6051-cf77-47f6-9720-fc29695e8443",
   "metadata": {},
   "outputs": [],
   "source": [
    "# SciPy 통계 함수: NumPy를 확장하여 통계, 최적화, 신호 처리 등 더 복잡한 과학 및 공학 계산을 위한 함수들\n",
    "# 1. 상관 분석: scipy.stats.pearsanr() - 두 숫자 변수 사이의 상관계수와 p-value를 계산\n",
    "# 2. T-test: scipy.stats.ttest_ind() - 두 독립된 그룹의 평균값에 통계적으로 유의미한 차이가 있는지 검증\n",
    "# 3. 카이제곱 검정: scipy.stats.chi2_contingency() - 두 카테고리 변수 사이에 연관성이 있는지 검증"
   ]
  },
  {
   "cell_type": "code",
   "execution_count": 83,
   "id": "6fdb8b6a-0fb6-4e36-b1a4-c3dde3c312ac",
   "metadata": {},
   "outputs": [
    {
     "name": "stdout",
     "output_type": "stream",
     "text": [
      "상관 계수 (r): 0.9956\n",
      "p-value: 0.0000\n",
      "------------------------------\n",
      "결론: 선수의 키와 경기당 평균 리바운드 개수는 유의미한 관계가 있음.\n"
     ]
    }
   ],
   "source": [
    "from scipy.stats import pearsonr\n",
    "\n",
    "# 선수의 키 (cm)\n",
    "heights = [190, 195, 200, 205, 210, 215]\n",
    "\n",
    "# 경기당 평균 리바운드 개수\n",
    "rebounds_per_game = [5.5, 6.1, 7.2, 7.8, 8.5, 9.1]\n",
    "\n",
    "correlation, p_value = pearsonr(heights, rebounds_per_game)\n",
    "\n",
    "print(f\"상관 계수 (r): {correlation:.4f}\")\n",
    "print(f\"p-value: {p_value:.4f}\")\n",
    "print(\"-\" * 30)\n",
    "\n",
    "if p_value < 0.05:\n",
    "    print(\"결론: 선수의 키와 경기당 평균 리바운드 개수는 유의미한 관계가 있음.\")\n",
    "else:\n",
    "    print(\"우연일 가능성이 큼\")"
   ]
  },
  {
   "cell_type": "code",
   "execution_count": 82,
   "id": "ed565446-b278-4162-b2a0-90aeb80b0c55",
   "metadata": {},
   "outputs": [
    {
     "name": "stdout",
     "output_type": "stream",
     "text": [
      "t-test: 3.5355\n",
      "p-value: 0.0077\n",
      "------------------------------\n",
      "결론: 브랜드별 농구화와 선수들의 수직 점프 높이는 유의미한 관계가 있음.\n"
     ]
    }
   ],
   "source": [
    "from scipy.stats import ttest_ind\n",
    "\n",
    "# A 브랜드 농구화를 신은 선수들의 수직 점프 높이 (cm)\n",
    "brand_A_jumps = [75, 78, 81, 79, 82]\n",
    "\n",
    "# B 브랜드 농구화를 신은 선수들의 수직 점프 높이 (cm)brand_B_jumps = [72, 74, 75, 76, 73]\n",
    "\n",
    "t_statistic, p_value = ttest_ind(brand_A_jumps, brand_B_jumps)\n",
    "\n",
    "print(f\"t-test: {t_statistic:.4f}\")\n",
    "print(f\"p-value: {p_value:.4f}\")\n",
    "print(\"-\" * 30)\n",
    "\n",
    "if p_value < 0.05:\n",
    "    print(\"결론: 브랜드별 농구화와 선수들의 수직 점프 높이는 유의미한 관계가 있음.\")\n",
    "else:\n",
    "    print(\"결론: 두 변수 사이에 유의미한 관계가 없음. 즉, 우연일 수 있음.\")  "
   ]
  },
  {
   "cell_type": "code",
   "execution_count": 85,
   "id": "963a016e-a30c-4323-bc4a-e4ff1d8c75ab",
   "metadata": {},
   "outputs": [
    {
     "name": "stdout",
     "output_type": "stream",
     "text": [
      "--- 분할표 ---\n",
      "Dominant_Hand  Left  Right\n",
      "Position                  \n",
      "Forward           1      4\n",
      "Guard             1      4\n",
      "------------------------------\n",
      "Chi-squared statistic: 0.0000\n",
      "p-value: 1.0000\n",
      "결론: 두 변수 사이에 유의미한 관계가 없음. 즉, 우연일우연일 수 있음\n"
     ]
    }
   ],
   "source": [
    "from scipy.stats import chi2_contingency\n",
    "import pandas as pd\n",
    "\n",
    "data = {\n",
    "    'Position': ['Guard', 'Guard', 'Guard', 'Guard', 'Forward', 'Forward', 'Forward', 'Forward', 'Forward', 'Guard'],\n",
    "    'Dominant_Hand': ['Right', 'Right', 'Left', 'Right', 'Right', 'Right', 'Right', 'Left', 'Right', 'Right']\n",
    "}\n",
    "df_players = pd.DataFrame(data)\n",
    "\n",
    "contingency_table = pd.crosstab(df_players[\"Position\"], df_players[\"Dominant_Hand\"])\n",
    "print(\"--- 분할표 ---\")\n",
    "print(contingency_table)\n",
    "print(\"-\" * 30)\n",
    "\n",
    "chi2, p_value, _, _ = chi2_contingency(contingency_table)\n",
    "\n",
    "print(f\"Chi-squared statistic: {chi2:.4f}\")\n",
    "print(f\"p-value: {p_value:.4f}\")\n",
    "\n",
    "if p_value < 0.05:\n",
    "    print(\"결론: 포지션과 주로 사용하는 손 사이에 통계적으로 유의미한 관계가 있음\")\n",
    "else:\n",
    "    print(\"결론: 두 변수 사이에 유의미한 관계가 없음. 즉, 우연일우연일 수 있음\")"
   ]
  },
  {
   "cell_type": "code",
   "execution_count": 90,
   "id": "bc8f4ce7-4db8-4a65-a26e-b54ed5abf96d",
   "metadata": {},
   "outputs": [
    {
     "name": "stdout",
     "output_type": "stream",
     "text": [
      "상관 계수 (r): 0.9969\n",
      "p-value: 0.0000\n",
      "결론: 경력과 연봉은 통계적으로 유의미한 관계가 있음\n",
      "\n",
      "\n"
     ]
    },
    {
     "ename": "TypeError",
     "evalue": "unsupported operand type(s) for /: 'str' and 'int'",
     "output_type": "error",
     "traceback": [
      "\u001b[0;31m---------------------------------------------------------------------------\u001b[0m",
      "\u001b[0;31mTypeError\u001b[0m                                 Traceback (most recent call last)",
      "Cell \u001b[0;32mIn[90], line 24\u001b[0m\n\u001b[1;32m     21\u001b[0m     \u001b[38;5;28mprint\u001b[39m(\u001b[38;5;124m\"\u001b[39m\u001b[38;5;124m결론: 두 변수 사이의 유의미한 관계가 있다고 보기 어려움. 즉, 우연일 수 있음\u001b[39m\u001b[38;5;124m\"\u001b[39m)\n\u001b[1;32m     22\u001b[0m \u001b[38;5;28mprint\u001b[39m(\u001b[38;5;124m\"\u001b[39m\u001b[38;5;130;01m\\n\u001b[39;00m\u001b[38;5;124m\"\u001b[39m)\n\u001b[0;32m---> 24\u001b[0m t_statistic, p_value \u001b[38;5;241m=\u001b[39m ttest_ind(df_team[\u001b[38;5;124m'\u001b[39m\u001b[38;5;124mTeam_Success\u001b[39m\u001b[38;5;124m'\u001b[39m], df_team[\u001b[38;5;124m'\u001b[39m\u001b[38;5;124mPoints\u001b[39m\u001b[38;5;124m'\u001b[39m])\n\u001b[1;32m     25\u001b[0m \u001b[38;5;28mprint\u001b[39m(\u001b[38;5;124mf\u001b[39m\u001b[38;5;124m\"\u001b[39m\u001b[38;5;124mt-test: \u001b[39m\u001b[38;5;132;01m{\u001b[39;00mt_statistic\u001b[38;5;132;01m:\u001b[39;00m\u001b[38;5;124m.4f\u001b[39m\u001b[38;5;132;01m}\u001b[39;00m\u001b[38;5;124m\"\u001b[39m)\n\u001b[1;32m     26\u001b[0m \u001b[38;5;28mprint\u001b[39m(\u001b[38;5;124mf\u001b[39m\u001b[38;5;124m\"\u001b[39m\u001b[38;5;124mp-value: \u001b[39m\u001b[38;5;132;01m{\u001b[39;00mp_value\u001b[38;5;132;01m:\u001b[39;00m\u001b[38;5;124m.4f\u001b[39m\u001b[38;5;132;01m}\u001b[39;00m\u001b[38;5;124m\"\u001b[39m)\n",
      "File \u001b[0;32m/opt/anaconda3/lib/python3.13/site-packages/scipy/_lib/deprecation.py:234\u001b[0m, in \u001b[0;36m_deprecate_positional_args.<locals>._inner_deprecate_positional_args.<locals>.inner_f\u001b[0;34m(*args, **kwargs)\u001b[0m\n\u001b[1;32m    232\u001b[0m \u001b[38;5;28;01mif\u001b[39;00m extra_args \u001b[38;5;241m<\u001b[39m\u001b[38;5;241m=\u001b[39m \u001b[38;5;241m0\u001b[39m:\n\u001b[1;32m    233\u001b[0m     warn_deprecated_args(kwargs)\n\u001b[0;32m--> 234\u001b[0m     \u001b[38;5;28;01mreturn\u001b[39;00m f(\u001b[38;5;241m*\u001b[39margs, \u001b[38;5;241m*\u001b[39m\u001b[38;5;241m*\u001b[39mkwargs)\n\u001b[1;32m    236\u001b[0m \u001b[38;5;66;03m# extra_args > 0\u001b[39;00m\n\u001b[1;32m    237\u001b[0m kwonly_extra_args \u001b[38;5;241m=\u001b[39m \u001b[38;5;28mset\u001b[39m(kwonly_args[:extra_args]) \u001b[38;5;241m-\u001b[39m deprecated_args\n",
      "File \u001b[0;32m/opt/anaconda3/lib/python3.13/site-packages/scipy/stats/_axis_nan_policy.py:586\u001b[0m, in \u001b[0;36m_axis_nan_policy_factory.<locals>.axis_nan_policy_decorator.<locals>.axis_nan_policy_wrapper\u001b[0;34m(***failed resolving arguments***)\u001b[0m\n\u001b[1;32m    583\u001b[0m     res \u001b[38;5;241m=\u001b[39m _add_reduced_axes(res, reduced_axes, keepdims)\n\u001b[1;32m    584\u001b[0m     \u001b[38;5;28;01mreturn\u001b[39;00m tuple_to_result(\u001b[38;5;241m*\u001b[39mres)\n\u001b[0;32m--> 586\u001b[0m res \u001b[38;5;241m=\u001b[39m hypotest_fun_out(\u001b[38;5;241m*\u001b[39msamples, \u001b[38;5;241m*\u001b[39m\u001b[38;5;241m*\u001b[39mkwds)\n\u001b[1;32m    587\u001b[0m res \u001b[38;5;241m=\u001b[39m result_to_tuple(res, n_out)\n\u001b[1;32m    588\u001b[0m res \u001b[38;5;241m=\u001b[39m _add_reduced_axes(res, reduced_axes, keepdims)\n",
      "File \u001b[0;32m/opt/anaconda3/lib/python3.13/site-packages/scipy/stats/_stats_py.py:6679\u001b[0m, in \u001b[0;36mttest_ind\u001b[0;34m(a, b, axis, equal_var, nan_policy, permutations, random_state, alternative, trim, method)\u001b[0m\n\u001b[1;32m   6677\u001b[0m \u001b[38;5;28;01mif\u001b[39;00m trim \u001b[38;5;241m==\u001b[39m \u001b[38;5;241m0\u001b[39m:\n\u001b[1;32m   6678\u001b[0m     \u001b[38;5;28;01mwith\u001b[39;00m np\u001b[38;5;241m.\u001b[39merrstate(divide\u001b[38;5;241m=\u001b[39m\u001b[38;5;124m'\u001b[39m\u001b[38;5;124mignore\u001b[39m\u001b[38;5;124m'\u001b[39m, invalid\u001b[38;5;241m=\u001b[39m\u001b[38;5;124m'\u001b[39m\u001b[38;5;124mignore\u001b[39m\u001b[38;5;124m'\u001b[39m):\n\u001b[0;32m-> 6679\u001b[0m         v1 \u001b[38;5;241m=\u001b[39m _var(a, axis, ddof\u001b[38;5;241m=\u001b[39m\u001b[38;5;241m1\u001b[39m, xp\u001b[38;5;241m=\u001b[39mxp)\n\u001b[1;32m   6680\u001b[0m         v2 \u001b[38;5;241m=\u001b[39m _var(b, axis, ddof\u001b[38;5;241m=\u001b[39m\u001b[38;5;241m1\u001b[39m, xp\u001b[38;5;241m=\u001b[39mxp)\n\u001b[1;32m   6682\u001b[0m     m1 \u001b[38;5;241m=\u001b[39m xp\u001b[38;5;241m.\u001b[39mmean(a, axis\u001b[38;5;241m=\u001b[39maxis)\n",
      "File \u001b[0;32m/opt/anaconda3/lib/python3.13/site-packages/scipy/stats/_stats_py.py:1211\u001b[0m, in \u001b[0;36m_var\u001b[0;34m(x, axis, ddof, mean, xp)\u001b[0m\n\u001b[1;32m   1208\u001b[0m \u001b[38;5;28;01mdef\u001b[39;00m\u001b[38;5;250m \u001b[39m\u001b[38;5;21m_var\u001b[39m(x, axis\u001b[38;5;241m=\u001b[39m\u001b[38;5;241m0\u001b[39m, ddof\u001b[38;5;241m=\u001b[39m\u001b[38;5;241m0\u001b[39m, mean\u001b[38;5;241m=\u001b[39m\u001b[38;5;28;01mNone\u001b[39;00m, xp\u001b[38;5;241m=\u001b[39m\u001b[38;5;28;01mNone\u001b[39;00m):\n\u001b[1;32m   1209\u001b[0m     \u001b[38;5;66;03m# Calculate variance of sample, warning if precision is lost\u001b[39;00m\n\u001b[1;32m   1210\u001b[0m     xp \u001b[38;5;241m=\u001b[39m array_namespace(x) \u001b[38;5;28;01mif\u001b[39;00m xp \u001b[38;5;129;01mis\u001b[39;00m \u001b[38;5;28;01mNone\u001b[39;00m \u001b[38;5;28;01melse\u001b[39;00m xp\n\u001b[0;32m-> 1211\u001b[0m     var \u001b[38;5;241m=\u001b[39m _moment(x, \u001b[38;5;241m2\u001b[39m, axis, mean\u001b[38;5;241m=\u001b[39mmean, xp\u001b[38;5;241m=\u001b[39mxp)\n\u001b[1;32m   1212\u001b[0m     \u001b[38;5;28;01mif\u001b[39;00m ddof \u001b[38;5;241m!=\u001b[39m \u001b[38;5;241m0\u001b[39m:\n\u001b[1;32m   1213\u001b[0m         n \u001b[38;5;241m=\u001b[39m x\u001b[38;5;241m.\u001b[39mshape[axis] \u001b[38;5;28;01mif\u001b[39;00m axis \u001b[38;5;129;01mis\u001b[39;00m \u001b[38;5;129;01mnot\u001b[39;00m \u001b[38;5;28;01mNone\u001b[39;00m \u001b[38;5;28;01melse\u001b[39;00m xp_size(x)\n",
      "File \u001b[0;32m/opt/anaconda3/lib/python3.13/site-packages/scipy/stats/_stats_py.py:1190\u001b[0m, in \u001b[0;36m_moment\u001b[0;34m(a, order, axis, mean, xp)\u001b[0m\n\u001b[1;32m   1187\u001b[0m     n_list\u001b[38;5;241m.\u001b[39mappend(current_n)\n\u001b[1;32m   1189\u001b[0m \u001b[38;5;66;03m# Starting point for exponentiation by squares\u001b[39;00m\n\u001b[0;32m-> 1190\u001b[0m mean \u001b[38;5;241m=\u001b[39m (xp\u001b[38;5;241m.\u001b[39mmean(a, axis\u001b[38;5;241m=\u001b[39maxis, keepdims\u001b[38;5;241m=\u001b[39m\u001b[38;5;28;01mTrue\u001b[39;00m) \u001b[38;5;28;01mif\u001b[39;00m mean \u001b[38;5;129;01mis\u001b[39;00m \u001b[38;5;28;01mNone\u001b[39;00m\n\u001b[1;32m   1191\u001b[0m         \u001b[38;5;28;01melse\u001b[39;00m xp\u001b[38;5;241m.\u001b[39masarray(mean, dtype\u001b[38;5;241m=\u001b[39mdtype))\n\u001b[1;32m   1192\u001b[0m mean \u001b[38;5;241m=\u001b[39m mean[()] \u001b[38;5;28;01mif\u001b[39;00m mean\u001b[38;5;241m.\u001b[39mndim \u001b[38;5;241m==\u001b[39m \u001b[38;5;241m0\u001b[39m \u001b[38;5;28;01melse\u001b[39;00m mean\n\u001b[1;32m   1193\u001b[0m a_zero_mean \u001b[38;5;241m=\u001b[39m _demean(a, mean, axis, xp\u001b[38;5;241m=\u001b[39mxp)\n",
      "File \u001b[0;32m/opt/anaconda3/lib/python3.13/site-packages/numpy/_core/fromnumeric.py:3904\u001b[0m, in \u001b[0;36mmean\u001b[0;34m(a, axis, dtype, out, keepdims, where)\u001b[0m\n\u001b[1;32m   3901\u001b[0m     \u001b[38;5;28;01melse\u001b[39;00m:\n\u001b[1;32m   3902\u001b[0m         \u001b[38;5;28;01mreturn\u001b[39;00m mean(axis\u001b[38;5;241m=\u001b[39maxis, dtype\u001b[38;5;241m=\u001b[39mdtype, out\u001b[38;5;241m=\u001b[39mout, \u001b[38;5;241m*\u001b[39m\u001b[38;5;241m*\u001b[39mkwargs)\n\u001b[0;32m-> 3904\u001b[0m \u001b[38;5;28;01mreturn\u001b[39;00m _methods\u001b[38;5;241m.\u001b[39m_mean(a, axis\u001b[38;5;241m=\u001b[39maxis, dtype\u001b[38;5;241m=\u001b[39mdtype,\n\u001b[1;32m   3905\u001b[0m                       out\u001b[38;5;241m=\u001b[39mout, \u001b[38;5;241m*\u001b[39m\u001b[38;5;241m*\u001b[39mkwargs)\n",
      "File \u001b[0;32m/opt/anaconda3/lib/python3.13/site-packages/numpy/_core/_methods.py:139\u001b[0m, in \u001b[0;36m_mean\u001b[0;34m(a, axis, dtype, out, keepdims, where)\u001b[0m\n\u001b[1;32m    137\u001b[0m \u001b[38;5;28;01mif\u001b[39;00m \u001b[38;5;28misinstance\u001b[39m(ret, mu\u001b[38;5;241m.\u001b[39mndarray):\n\u001b[1;32m    138\u001b[0m     \u001b[38;5;28;01mwith\u001b[39;00m _no_nep50_warning():\n\u001b[0;32m--> 139\u001b[0m         ret \u001b[38;5;241m=\u001b[39m um\u001b[38;5;241m.\u001b[39mtrue_divide(\n\u001b[1;32m    140\u001b[0m                 ret, rcount, out\u001b[38;5;241m=\u001b[39mret, casting\u001b[38;5;241m=\u001b[39m\u001b[38;5;124m'\u001b[39m\u001b[38;5;124munsafe\u001b[39m\u001b[38;5;124m'\u001b[39m, subok\u001b[38;5;241m=\u001b[39m\u001b[38;5;28;01mFalse\u001b[39;00m)\n\u001b[1;32m    141\u001b[0m     \u001b[38;5;28;01mif\u001b[39;00m is_float16_result \u001b[38;5;129;01mand\u001b[39;00m out \u001b[38;5;129;01mis\u001b[39;00m \u001b[38;5;28;01mNone\u001b[39;00m:\n\u001b[1;32m    142\u001b[0m         ret \u001b[38;5;241m=\u001b[39m arr\u001b[38;5;241m.\u001b[39mdtype\u001b[38;5;241m.\u001b[39mtype(ret)\n",
      "\u001b[0;31mTypeError\u001b[0m: unsupported operand type(s) for /: 'str' and 'int'"
     ]
    }
   ],
   "source": [
    "import pandas as pd\n",
    "from scipy.stats import pearsonr, ttest_ind, chi2_contingency\n",
    "\n",
    "data = {\n",
    "    'Player': ['A', 'B', 'C', 'D', 'E', 'F', 'G', 'H', 'I', 'J', 'K', 'L', 'M', 'N'],\n",
    "    'Experience': [1, 3, 8, 10, 2, 5, 9, 12, 1, 4, 6, 11, 2, 7], # NBA 경력 (년)\n",
    "    'Position': ['Guard', 'Forward', 'Guard', 'Center', 'Forward', 'Guard', 'Center', 'Guard', 'Forward', 'Forward', 'Center', 'Center', 'Guard', 'Forward'],\n",
    "    'Salary': [5, 8, 25, 30, 6, 15, 28, 35, 4, 12, 18, 33, 5, 22], # 연봉 (백만 달러)\n",
    "    'Points': [10, 15, 22, 18, 12, 18, 20, 28, 8, 16, 17, 21, 9, 21], # 평균 득점\n",
    "    'Team_Success': ['Playoff', 'Non-Playoff', 'Playoff', 'Playoff', 'Non-Playoff', 'Playoff', 'Playoff', 'Playoff', 'Non-Playoff', 'Non-Playoff', 'Playoff', 'Playoff', 'Non-Playoff', 'Playoff']\n",
    "}\n",
    "df_team = pd.DataFrame(data)\n",
    "\n",
    "correlation, p_value = pearsonr(df_team['Experience'], df_team['Salary'])\n",
    "print(f\"상관 계수 (r): {correlation:.4f}\")\n",
    "print(f\"p-value: {p_value:.4f}\")\n",
    "\n",
    "if p_value < 0.05:\n",
    "    print(\"결론: 경력과 연봉은 통계적으로 유의미한 관계가 있음\")\n",
    "else:\n",
    "    print(\"결론: 두 변수 사이의 유의미한 관계가 있다고 보기 어려움. 즉, 우연일 수 있음\")\n",
    "print(\"\\n\")\n",
    "\n",
    "t_statistic, p_value = ttest_ind(df_team['Team_Success'], df_team['Points'])\n",
    "print(f\"t-test: {t_statistic:.4f}\")\n",
    "print(f\"p-value: {p_value:.4f}\")\n",
    "\n",
    "if p_value < 0.05:\n",
    "    print(\"결론: 플레이오프에 진출한 선수들과 평균 득점 사이에 통계적으로 유의미한 관계가 있음\")\n",
    "else:\n",
    "    print(\"결론: 두 변수 사이에 유의미한 관계가 없음. 즉, 우연일 수 있음\")\n",
    "print(\"\\n\")\n",
    "\n",
    "contingency_table = pd.crosstab(df_team['Position'], df_team['Team_Success'])\n",
    "print(\"--- 분할표 ---\")\n",
    "print(contingency_table)\n",
    "print('-' * 30)\n",
    "\n",
    "chi2, p_value = chi2_contingency(contingency_table)\n",
    "print(f\"chi-squared statistic: {chi2:.4f}\")\n",
    "print(f\"p_value: {p_value:.4f}\")\n",
    "\n",
    "if p_value:\n",
    "    print(\"결론: 포지션과 팀의 성적사지에 통계적으로 유의미한 연광성이 있음\")\n",
    "else:\n",
    "    print(\"결론: 두 변수 사이에 통계적으로 유의미한 연광성을 찾을 수 없음\")"
   ]
  }
 ],
 "metadata": {
  "kernelspec": {
   "display_name": "Python [conda env:base] *",
   "language": "python",
   "name": "conda-base-py"
  },
  "language_info": {
   "codemirror_mode": {
    "name": "ipython",
    "version": 3
   },
   "file_extension": ".py",
   "mimetype": "text/x-python",
   "name": "python",
   "nbconvert_exporter": "python",
   "pygments_lexer": "ipython3",
   "version": "3.13.5"
  }
 },
 "nbformat": 4,
 "nbformat_minor": 5
}
