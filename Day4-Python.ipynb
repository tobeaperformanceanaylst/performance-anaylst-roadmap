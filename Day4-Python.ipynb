{
 "cells": [
  {
   "cell_type": "code",
   "execution_count": 38,
   "id": "2e0ab7aa-ee32-4db3-9fa1-96ac56cb3b7d",
   "metadata": {},
   "outputs": [
    {
     "name": "stdout",
     "output_type": "stream",
     "text": [
      "   name  age   city\n",
      "0  Owen   24  Seoul\n",
      "1   Amy   30  Busan\n",
      "2  john   28   Jeju\n"
     ]
    }
   ],
   "source": [
    "# Pandas: 엑셀이나 SQL처럼 데이터를 표(Table)형태로 다룰 수 있게 해주는 라이브러리\n",
    "#  - DataFrame: Pandas의 가장 핵심적인 데이터 구조로 행(row)와 열(column)으로 이루어진 2차원 표\n",
    "# DataFrame 만드는 법 - 딕셔너리를 사용하기. 딕셔너리의 'Key'는 '열(column)이름'이 되고, 'Value'는 해당 열의 데이터가 된다.\n",
    "\n",
    "import pandas as pd\n",
    "\n",
    "my_data = {\n",
    "    'name': ['Owen', 'Amy', 'john'],\n",
    "    'age': [24, 30, 28],\n",
    "    'city': ['Seoul', 'Busan', 'Jeju']\n",
    "}\n",
    "\n",
    "df = pd.DataFrame(my_data)\n",
    "\n",
    "print(df)"
   ]
  },
  {
   "cell_type": "code",
   "execution_count": 40,
   "id": "d1cdf177-fac7-44ac-8870-d8ed5fa5b982",
   "metadata": {},
   "outputs": [
    {
     "name": "stdout",
     "output_type": "stream",
     "text": [
      "   subject  score\n",
      "0     Math     90\n",
      "1  English     85\n",
      "2  Science     95\n"
     ]
    }
   ],
   "source": [
    "import pandas as pd\n",
    "\n",
    "data = {\n",
    "    'subject': ['Math', 'English', 'Science'],\n",
    "    'score': [90, 85, 95]\n",
    "}\n",
    "\n",
    "df = pd.DataFrame(data)\n",
    "\n",
    "print(df)"
   ]
  },
  {
   "cell_type": "code",
   "execution_count": 44,
   "id": "9682e141-1f9c-4b0c-8853-648fd3205b96",
   "metadata": {},
   "outputs": [
    {
     "name": "stdout",
     "output_type": "stream",
     "text": [
      "    subject  score\n",
      "0      Math     90\n",
      "1   English     85\n",
      "2   Science     95\n",
      "3  Historty     88\n",
      "4       Art     92\n",
      "<class 'pandas.core.frame.DataFrame'>\n",
      "RangeIndex: 6 entries, 0 to 5\n",
      "Data columns (total 2 columns):\n",
      " #   Column   Non-Null Count  Dtype \n",
      "---  ------   --------------  ----- \n",
      " 0   subject  6 non-null      object\n",
      " 1   score    6 non-null      int64 \n",
      "dtypes: int64(1), object(1)\n",
      "memory usage: 228.0+ bytes\n",
      "None\n",
      "           score\n",
      "count   6.000000\n",
      "mean   88.000000\n",
      "std     5.966574\n",
      "min    78.000000\n",
      "25%    85.750000\n",
      "50%    89.000000\n",
      "75%    91.500000\n",
      "max    95.000000\n"
     ]
    }
   ],
   "source": [
    "# .head(): 메소드는 데이터프레임의 첫 5개 행을 보여줌\n",
    "# .info(): 메소드는 데이터프레임의 기술적인 요약 정보를 보여줌\n",
    "#   - \n",
    "# .describe(): 메소드는 숫자로 된 열에 대한 기본적인 통계치를 자동으로 계산해 줌.\n",
    "#   - 갯수(count), 평균(mean), 표준편차(std), 최솟값(min), 최댓값(max), 사분위수(25%, 50%, 75%)\n",
    "\n",
    "import pandas as pd \n",
    "\n",
    "data = {\n",
    "    'subject': ['Math', 'English', 'Science', 'Historty', 'Art', 'Music'],\n",
    "    'score': [90, 85, 95, 88, 92, 78]\n",
    "}\n",
    "df = pd.DataFrame(data)\n",
    "\n",
    "print(df.head())\n",
    "print(df.info())\n",
    "print(df.describe())"
   ]
  }
 ],
 "metadata": {
  "kernelspec": {
   "display_name": "Python [conda env:base] *",
   "language": "python",
   "name": "conda-base-py"
  },
  "language_info": {
   "codemirror_mode": {
    "name": "ipython",
    "version": 3
   },
   "file_extension": ".py",
   "mimetype": "text/x-python",
   "name": "python",
   "nbconvert_exporter": "python",
   "pygments_lexer": "ipython3",
   "version": "3.13.5"
  }
 },
 "nbformat": 4,
 "nbformat_minor": 5
}
