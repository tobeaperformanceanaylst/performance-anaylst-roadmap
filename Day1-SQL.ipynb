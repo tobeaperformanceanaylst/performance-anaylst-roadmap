{
 "cells": [
  {
   "cell_type": "code",
   "execution_count": 26,
   "id": "16162a9e-3eea-46d4-94c6-1eae043ef09f",
   "metadata": {},
   "outputs": [],
   "source": [
    "# SQL(Structured Query Language): 창고에서 \"고객 정보 선반에서, 서울에 사는 사람 5명만 보여줘\" 요청할 때 사용하는 '주문 언어'\n",
    "# 데이터베이스(DB): 데이터들이 체계적으로 저장된 거대한 '창고'\n",
    "# 테이블(Table): 창고 안에 있는 '고객 정보', '제품 목록'등 주제별로 정리된 '선반'"
   ]
  },
  {
   "cell_type": "code",
   "execution_count": null,
   "id": "1a1d3188-a394-4193-90ca-9f8f306da0af",
   "metadata": {},
   "outputs": [],
   "source": [
    "# 가장 기본적인 SQL 주문서:\n",
    "-- 'customers' 테이벌(선반)에서\n",
    "-- 모든 컬럼(*)의 데이터를\n",
    "-- 5개만(LIMIT 5) 가져와줘!\n",
    "SELECT * FROM customers LIMIT 5;"
   ]
  }
 ],
 "metadata": {
  "kernelspec": {
   "display_name": "Python [conda env:base] *",
   "language": "python",
   "name": "conda-base-py"
  },
  "language_info": {
   "codemirror_mode": {
    "name": "ipython",
    "version": 3
   },
   "file_extension": ".py",
   "mimetype": "text/x-python",
   "name": "python",
   "nbconvert_exporter": "python",
   "pygments_lexer": "ipython3",
   "version": "3.13.5"
  }
 },
 "nbformat": 4,
 "nbformat_minor": 5
}
