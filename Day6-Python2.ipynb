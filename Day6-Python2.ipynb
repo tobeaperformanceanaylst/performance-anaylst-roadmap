{
 "cells": [
  {
   "cell_type": "code",
   "execution_count": 6,
   "id": "e3aa5e75-23c8-4a59-b206-5e08aab965a5",
   "metadata": {},
   "outputs": [
    {
     "name": "stdout",
     "output_type": "stream",
     "text": [
      "   name  score   city\n",
      "0  Owen     95  Seoul\n",
      "1   Amy     88  Busan\n",
      "2  John     70   Jeju\n",
      "3   Sue     92  Seoul\n",
      "\n",
      "--- 첫 번째 행 ---\n",
      "name      Owen\n",
      "score       95\n",
      "city     Seoul\n",
      "Name: 0, dtype: object\n",
      "\n",
      "--- (0, 1) 위치의 값 ---\n",
      "95\n",
      "\n",
      "--- 1, 2번 행 ---\n",
      "   name  score   city\n",
      "1   Amy     88  Busan\n",
      "2  John     70   Jeju\n"
     ]
    }
   ],
   "source": [
    "# Pandas - 데이터 잘라내고 골라내기\n",
    "# 1. 위치로 잘라내기: .iloc\n",
    "# .iloc: 데이터의 위치(순서)를 기반으로 원하는 행과 열을 잘라냄\n",
    "# df.iloc[행], df.iloc[행, 열]\n",
    "\n",
    "import pandas as pd\n",
    "\n",
    "data = {\n",
    "    'name': ['Owen', 'Amy', 'John', 'Sue'],\n",
    "    'score': [95, 88, 70, 92],\n",
    "    'city': ['Seoul', 'Busan', 'Jeju', 'Seoul']\n",
    "}\n",
    "df = pd.DataFrame(data)\n",
    "\n",
    "print(df)\n",
    "print(\"\\n--- 첫 번째 행 ---\")\n",
    "print(df.iloc[0])\n",
    "print(\"\\n--- (0, 1) 위치의 값 ---\")\n",
    "print(df.iloc[0, 1])\n",
    "print(\"\\n--- 1, 2번 행 ---\")\n",
    "print(df.iloc[1:3])"
   ]
  },
  {
   "cell_type": "code",
   "execution_count": 8,
   "id": "7e52cac3-2b3c-482d-a713-9e82940b82a1",
   "metadata": {},
   "outputs": [
    {
     "name": "stdout",
     "output_type": "stream",
     "text": [
      "\n",
      "--- 서울 거주자 ---\n",
      "   name  score   city\n",
      "0  Owen     95  Seoul\n",
      "3   Sue     92  Seoul\n",
      "\n",
      "--- 90점 이상 고득점자 ---\n",
      "   name  score   city\n",
      "0  Owen     95  Seoul\n",
      "3   Sue     92  Seoul\n"
     ]
    }
   ],
   "source": [
    "# 2. 조건으로 골라내기 (Boolean Indexing)\n",
    "# 데이터 분석에서 가장 많이 쓰이는 방식. 특정 조건을 만족하는 행만 골라냄\n",
    "\n",
    "# 'city'가 'Seoul'인 행만 골라내기\n",
    "seoul_df = df[df['city'] == 'Seoul']\n",
    "print(\"\\n--- 서울 거주자 ---\")\n",
    "print(seoul_df)\n",
    "\n",
    "# 'score'가 90점 이상인 행만 골라내기\n",
    "high_score_df = df[df['score'] >= 90]\n",
    "print(\"\\n--- 90점 이상 고득점자 ---\")\n",
    "print(high_score_df)"
   ]
  },
  {
   "cell_type": "code",
   "execution_count": 10,
   "id": "c3d116a4-9551-48a8-8aaf-e514a992792e",
   "metadata": {},
   "outputs": [
    {
     "name": "stdout",
     "output_type": "stream",
     "text": [
      "name     John\n",
      "score      70\n",
      "city     Jeju\n",
      "Name: 2, dtype: object\n",
      "  product  price  stock\n",
      "1       B   1500     15\n",
      "3       D   1200      5\n",
      "4       E   2000      8\n"
     ]
    }
   ],
   "source": [
    "import pandas as pd\n",
    "\n",
    "data = {\n",
    "    'product': ['A', 'B', 'C', 'D', 'E'],\n",
    "    'price': [500, 1500, 800, 1200, 2000],\n",
    "    'stock': [20, 15, 10, 5, 8]\n",
    "}\n",
    "df_mission = pd.DataFrame(data)\n",
    "\n",
    "filtered = df_mission[df_mission['price'] >= 1000]\n",
    "\n",
    "# 테이블 3번행 출력\n",
    "print(df.iloc[2])\n",
    "# price >= 1000만 출력\n",
    "print(filtered)"
   ]
  }
 ],
 "metadata": {
  "kernelspec": {
   "display_name": "Python [conda env:base] *",
   "language": "python",
   "name": "conda-base-py"
  },
  "language_info": {
   "codemirror_mode": {
    "name": "ipython",
    "version": 3
   },
   "file_extension": ".py",
   "mimetype": "text/x-python",
   "name": "python",
   "nbconvert_exporter": "python",
   "pygments_lexer": "ipython3",
   "version": "3.13.5"
  }
 },
 "nbformat": 4,
 "nbformat_minor": 5
}
