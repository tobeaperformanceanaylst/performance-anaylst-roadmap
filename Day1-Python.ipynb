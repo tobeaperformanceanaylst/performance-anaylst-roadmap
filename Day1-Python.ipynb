{
 "cells": [
  {
   "cell_type": "code",
   "execution_count": 3,
   "id": "8c6bbad5-da63-4253-a36d-2599010618d8",
   "metadata": {},
   "outputs": [
    {
     "name": "stdout",
     "output_type": "stream",
     "text": [
      "Hello, Data Analysis!\n"
     ]
    }
   ],
   "source": [
    "print(\"Hello, Data Analysis!\")"
   ]
  },
  {
   "cell_type": "code",
   "execution_count": 5,
   "id": "bd4e7703-d305-449c-813a-ed1a693475e0",
   "metadata": {},
   "outputs": [
    {
     "name": "stdout",
     "output_type": "stream",
     "text": [
      "제 이름은 김승규이고, 2001년에 태어났습니다.\n"
     ]
    }
   ],
   "source": [
    "name = \"김승규\"\n",
    "year = \"2001\"\n",
    "\n",
    "print(f\"제 이름은 {name}이고, {year}년에 태어났습니다.\")"
   ]
  },
  {
   "cell_type": "code",
   "execution_count": 9,
   "id": "b2f43561-2934-49af-8a29-b81ad19369e4",
   "metadata": {},
   "outputs": [
    {
     "name": "stdout",
     "output_type": "stream",
     "text": [
      "가장 좋아하는 음식 중 하나는 Steak이고, 제 mbti는 infj입니다.\n"
     ]
    }
   ],
   "source": [
    "favorite_foods = [\"Pasta\", \"Steak\", \"Pho\"]\n",
    "my_info = {\n",
    "    \"이름\": \"Owen\",\n",
    "    \"나이\": \"24\",\n",
    "    \"mbti\": \"infj\"\n",
    "}\n",
    "\n",
    "print(f\"가장 좋아하는 음식 중 하나는 {favorite_foods[1]}이고, 제 mbti는 {my_info[\"mbti\"]}입니다.\")"
   ]
  },
  {
   "cell_type": "code",
   "execution_count": null,
   "id": "e1deef93-94bc-4da0-8c9c-a0f1201f59a3",
   "metadata": {},
   "outputs": [],
   "source": [
    "# 변수는 데이터엥 붙이는 이름표!\n",
    "# 변수이름 = 데이터\n",
    "\n",
    "# 자료형은 데이터의 종류!\n",
    "# 1. 숫자형 (Number) - 정수, 실수\n",
    "# 2. 문자열 (String, str) - \",'로 감싸주어야함   * +를 사용해서 문자간 서로 연결 가능\n",
    "\n",
    "# 다양한 데이터 그릇들(리스트, 딕셔너리, 튜플, 세트)\n",
    "# 1. 리스트(List): 순서가 있는 서랍장 []  - 언제든지 내용물을 바꾸거나 추가/삭제 가능, 순서가 있음\n",
    "#                                   - 순서가 중요한 데이터 묶음일 때 사용\n",
    "\n",
    "# 2. 딕셔너리(Dictionary): 이름표(Key)가 붙은 사물함 {} - 수정이 가능, 순서 대신 고유한 Key를 이용해 Value를 찾아냄\n",
    "#                                                - 각 데이터가 명확한 이름표를 가질 때\n",
    "\n",
    "# 3. 튜플(Tuple): 진공 포장된 꾸러미 () - 순서가 있고, 수정이 불가능\n",
    "#                                  - 절대 바뀌면 안 되는 중요한 데이터를 묶을 때(예: 좌표값)\n",
    "\n",
    "# 4. 세트(Set): 중복 구슬은 안 들어가는 주머니 {} - 중복과 순서가 없으며, 수정이 가능\n",
    "#                                         - 테이터의 중복을 제거하거나, 특정 데이터의 존재 여부만 빠르게 확인할 때\n",
    "\n"
   ]
  }
 ],
 "metadata": {
  "kernelspec": {
   "display_name": "Python [conda env:base] *",
   "language": "python",
   "name": "conda-base-py"
  },
  "language_info": {
   "codemirror_mode": {
    "name": "ipython",
    "version": 3
   },
   "file_extension": ".py",
   "mimetype": "text/x-python",
   "name": "python",
   "nbconvert_exporter": "python",
   "pygments_lexer": "ipython3",
   "version": "3.13.5"
  }
 },
 "nbformat": 4,
 "nbformat_minor": 5
}
