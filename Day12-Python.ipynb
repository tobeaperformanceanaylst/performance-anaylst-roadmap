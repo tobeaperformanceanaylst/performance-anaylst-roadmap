{
 "cells": [
  {
   "cell_type": "code",
   "execution_count": 57,
   "id": "122382ce-6d72-4d6f-b87d-afe3683f7cf5",
   "metadata": {},
   "outputs": [
    {
     "name": "stdout",
     "output_type": "stream",
     "text": [
      "--- 변환 전 ---\n",
      "<class 'pandas.core.frame.DataFrame'>\n",
      "RangeIndex: 3 entries, 0 to 2\n",
      "Data columns (total 1 columns):\n",
      " #   Column    Non-Null Count  Dtype \n",
      "---  ------    --------------  ----- \n",
      " 0   Date_str  3 non-null      object\n",
      "dtypes: object(1)\n",
      "memory usage: 156.0+ bytes\n",
      "\n",
      "--- 변환 후 ---\n",
      "<class 'pandas.core.frame.DataFrame'>\n",
      "RangeIndex: 3 entries, 0 to 2\n",
      "Data columns (total 2 columns):\n",
      " #   Column    Non-Null Count  Dtype         \n",
      "---  ------    --------------  -----         \n",
      " 0   Date_str  3 non-null      object        \n",
      " 1   Date_dt   3 non-null      datetime64[ns]\n",
      "dtypes: datetime64[ns](1), object(1)\n",
      "memory usage: 180.0+ bytes\n"
     ]
    }
   ],
   "source": [
    "# 1. 문자열을 날짜 타입으로: pd. to_datetime()\n",
    "# * 데이터 분석시, 날짜는 보통 일반 텍스트(object)로 저장됨. pd. to_datetime()을 사용해서 datetime64[ns]으로 변환해줌\n",
    "\n",
    "import pandas as pd\n",
    "\n",
    "df = pd.DataFrame({'Date_str': ['2025-01-15', '2025-02-20', '2025-03-08']})\n",
    "\n",
    "# 변환 전 데이터 타입 확인\n",
    "print(\"--- 변환 전 ---\")\n",
    "df.info()\n",
    "\n",
    "# 'Date_str' 열을 datetime 타입으로 변환하여 새 열에 저장\n",
    "df['Date_dt'] = pd.to_datetime(df['Date_str'])\n",
    "\n",
    "# 변환 후 데이터 타입 확인\n",
    "print(\"\\n--- 변환 후 ---\")\n",
    "df.info()"
   ]
  },
  {
   "cell_type": "code",
   "execution_count": 59,
   "id": "01318a75-712a-4cdf-b3ca-e5ebdc2b45c9",
   "metadata": {},
   "outputs": [
    {
     "name": "stdout",
     "output_type": "stream",
     "text": [
      "     Date_str    Date_dt  Year  Month   Day_Name\n",
      "0  2025-01-15 2025-01-15  2025      1  Wednesday\n",
      "1  2025-02-20 2025-02-20  2025      2   Thursday\n",
      "2  2025-03-08 2025-03-08  2025      3   Saturday\n"
     ]
    }
   ],
   "source": [
    "# 2. 날짜 정보 추출하기: .dt 접근자\n",
    "# 일단 datetime 타입으로 변환하고 나면, .dt 접근자를 통해 숨겨져 있던 다양한 시간 정보들을 아주 쉽게 꺼낼 수 있음\n",
    "# .dt.year: 년도, .dt.month: 월, .dt.day: 일, .dt.day_name(): 요일 이름, .dt.weekday: 요일 숫자(월요일=0)\n",
    "\n",
    "# 'Date_dt' 열에서 년, 월, 요일 정보 추출하기\n",
    "df['Year'] = df['Date_dt'].dt.year\n",
    "df['Month'] = df['Date_dt'].dt.month\n",
    "df['Day_Name'] = df['Date_dt'].dt.day_name()\n",
    "\n",
    "print(df)"
   ]
  },
  {
   "cell_type": "code",
   "execution_count": 67,
   "id": "e215cb03-3bac-47ec-ac26-a3e6523e668d",
   "metadata": {},
   "outputs": [
    {
     "name": "stdout",
     "output_type": "stream",
     "text": [
      "     Log_Date  Visits  Page_Views Analysis_Date  Month Day_of_Week\n",
      "0  2025-07-01    1200        5500    2025-07-01      7     Tuesday\n",
      "1  2025-07-02    1350        6100    2025-07-02      7   Wednesday\n",
      "2  2025-07-03    1180        5400    2025-07-03      7    Thursday\n",
      "3  2025-08-15    2500       11000    2025-08-15      8      Friday\n",
      "4  2025-08-16    2800       12500    2025-08-16      8    Saturday\n",
      "5  2025-09-05    1900        8800    2025-09-05      9      Friday\n"
     ]
    }
   ],
   "source": [
    "import pandas as pd\n",
    "\n",
    "data = {\n",
    "    'Log_Date': ['2025-07-01', '2025-07-02', '2025-07-03', '2025-08-15', '2025-08-16', '2025-09-05'],\n",
    "    'Visits': [1200, 1350, 1180, 2500, 2800, 1900],\n",
    "    'Page_Views': [5500, 6100, 5400, 11000, 12500, 8800]\n",
    "}\n",
    "df_traffic = pd.DataFrame(data)\n",
    "\n",
    "df_traffic['Analysis_Date'] = pd.to_datetime(df_traffic['Log_Date'])\n",
    "\n",
    "df_traffic['Month'] = df_traffic['Analysis_Date'].dt.month\n",
    "\n",
    "df_traffic['Day_of_Week'] = df_traffic['Analysis_Date'].dt.day_name()\n",
    "\n",
    "print(df_traffic)"
   ]
  },
  {
   "cell_type": "code",
   "execution_count": null,
   "id": "c168181a-52bf-4f35-a661-a77679113dcd",
   "metadata": {},
   "outputs": [],
   "source": []
  }
 ],
 "metadata": {
  "kernelspec": {
   "display_name": "Python [conda env:base] *",
   "language": "python",
   "name": "conda-base-py"
  },
  "language_info": {
   "codemirror_mode": {
    "name": "ipython",
    "version": 3
   },
   "file_extension": ".py",
   "mimetype": "text/x-python",
   "name": "python",
   "nbconvert_exporter": "python",
   "pygments_lexer": "ipython3",
   "version": "3.13.5"
  }
 },
 "nbformat": 4,
 "nbformat_minor": 5
}
