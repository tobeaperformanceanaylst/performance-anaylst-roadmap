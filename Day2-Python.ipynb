{
 "cells": [
  {
   "cell_type": "code",
   "execution_count": 1,
   "id": "7040add4-acb1-4dd4-854b-cb4901db4942",
   "metadata": {},
   "outputs": [
    {
     "name": "stdout",
     "output_type": "stream",
     "text": [
      "Hello, Owen! Welcome.\n"
     ]
    }
   ],
   "source": [
    "# 'name'이라는 재료(매개변수)를 받아서 인사말을 만들어주는 함수를 정의(define)\n",
    "def make_greeting(name):\n",
    "    greeting = f\"Hello, {name}! Welcome.\"\n",
    "    return greeting # 함수의 최종 결과물을 반환(return)\n",
    "\n",
    "# 함수 사용하기 (호출, Call)\n",
    "my_name = \"Owen\"\n",
    "result = make_greeting(my_name)  # 'make_greeting' 함수를 호출하고, 그 결과물을 result 변수에 저장\n",
    "print(result)"
   ]
  },
  {
   "cell_type": "code",
   "execution_count": null,
   "id": "4b07f74b-7273-416a-a60a-8f704ef188b7",
   "metadata": {},
   "outputs": [],
   "source": [
    "# def: 지금부터 함수를 만들겠다는 선언\n",
    "# make_greeting: 만든 함수의 이름(명령어)\n",
    "# (name): 함수가 작업을 수행할 때 필요한 재료(매개변수, parameter)\n",
    "# return: 함수가 모든 작업을 마친 후, 호출한 곳에 돌려주는 결과물"
   ]
  },
  {
   "cell_type": "code",
   "execution_count": 12,
   "id": "949d0c2b-27d5-474a-9387-e4b917d83329",
   "metadata": {},
   "outputs": [],
   "source": [
    "# 조건문 - 조건에 따라 다른 행동을 하도록 만들 때\n",
    "# if / elif / else\n",
    "# if 조건1:\n",
    "#    조건1이 참(True)일 때 실행할 코드\n",
    "# elif 조건2:\n",
    "#      조건1은 거짓(False)일 때, 조건2가 참(True)일 때 실행할 코드\n",
    "# else:\n",
    "#      위의 모든 조건이 거짓(False)일 때 실행할 코드"
   ]
  },
  {
   "cell_type": "code",
   "execution_count": 19,
   "id": "cb735311-e562-4766-8c94-c999d4e05c59",
   "metadata": {},
   "outputs": [
    {
     "name": "stdout",
     "output_type": "stream",
     "text": [
      "Have a good day!\n"
     ]
    }
   ],
   "source": [
    "weather = \"cloudy\"\n",
    "\n",
    "if weather == \"rain\":\n",
    "    print(\"bring an umbrella.\")\n",
    "elif weather == \"dust\":\n",
    "    print(\"bring a mask\")\n",
    "elif weather == \"sunny\":\n",
    "    print(\"put sunblock on your skin\")\n",
    "else:\n",
    "    print(\"Have a good day!\")"
   ]
  },
  {
   "cell_type": "code",
   "execution_count": 23,
   "id": "6ecbb734-09cf-4ed8-a0c9-9cf40d672e0f",
   "metadata": {},
   "outputs": [
    {
     "name": "stdout",
     "output_type": "stream",
     "text": [
      "10 is Positve.\n",
      "-5 is Negative.\n",
      "0 is Zero.\n",
      "999 is Positve.\n"
     ]
    }
   ],
   "source": [
    "def check_number(num):\n",
    "    \n",
    "    if num > 0:\n",
    "        print(f\"{num} is Positve.\")\n",
    "        \n",
    "    elif num < 0:\n",
    "        print(f\"{num} is Negative.\")\n",
    "        \n",
    "    else:\n",
    "        print(f\"{num} is Zero.\")\n",
    "\n",
    "\n",
    "check_number(10)\n",
    "check_number(-5)\n",
    "check_number(0)\n",
    "check_number(999)"
   ]
  },
  {
   "cell_type": "code",
   "execution_count": null,
   "id": "5077018d-1f88-4ba9-aa01-d6f7a37963a0",
   "metadata": {},
   "outputs": [],
   "source": []
  },
  {
   "cell_type": "code",
   "execution_count": null,
   "id": "c1208b7f-27eb-44a4-bcb1-a92d57664c8e",
   "metadata": {},
   "outputs": [],
   "source": []
  }
 ],
 "metadata": {
  "kernelspec": {
   "display_name": "Python [conda env:base] *",
   "language": "python",
   "name": "conda-base-py"
  },
  "language_info": {
   "codemirror_mode": {
    "name": "ipython",
    "version": 3
   },
   "file_extension": ".py",
   "mimetype": "text/x-python",
   "name": "python",
   "nbconvert_exporter": "python",
   "pygments_lexer": "ipython3",
   "version": "3.13.5"
  }
 },
 "nbformat": 4,
 "nbformat_minor": 5
}
