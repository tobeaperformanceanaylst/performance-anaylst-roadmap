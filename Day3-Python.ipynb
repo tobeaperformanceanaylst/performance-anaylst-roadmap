{
 "cells": [
  {
   "cell_type": "code",
   "execution_count": 30,
   "id": "92a8adb9-4bc6-4ab9-bdea-72501268ad27",
   "metadata": {},
   "outputs": [],
   "source": [
    "# for 반복문: 데이터 묶음(리스트, 튜플 등)에서 항목을 하나씩 자동응로 꺼내어 정해진 작업을 수행할 때\n",
    "\n",
    "# fruits 리스트에서 항목을 하나씩 꺼내어 fruit이라는 임시 변수를 담아 반복함\n",
    "# for fruit in fruits:  # fruits라는 컨베이어 벨트에서, 상자가 하나씩 올 때마다 그 상자에 fruit이라는 이름표를 붙여줘 라는 의미\n",
    "#     print(f\"{fruit}를 맛있게 먹었습니다.\")"
   ]
  },
  {
   "cell_type": "code",
   "execution_count": 32,
   "id": "857cc2af-a6aa-4cb0-a883-7e39edf5cbb5",
   "metadata": {},
   "outputs": [
    {
     "name": "stdout",
     "output_type": "stream",
     "text": [
      "2\n",
      "4\n",
      "6\n",
      "8\n",
      "10\n"
     ]
    }
   ],
   "source": [
    "# 숫자 리스트를 만들어서 반복문을 통해 2배 된 값 출력\n",
    "numbers = [1, 2, 3, 4, 5]\n",
    "\n",
    "for number in numbers:\n",
    "    print(number * 2)"
   ]
  },
  {
   "cell_type": "code",
   "execution_count": 33,
   "id": "40c51e10-48b2-475c-8226-24d86c9583f1",
   "metadata": {},
   "outputs": [],
   "source": [
    "# while 반복문: 정해진 횟수만큼 반복하는 for문과 다르게 특정 조건이 참(True)인 동안 계속해서 코드 반복\n",
    "# *루프가 언젠가 반드시 멈출 수 있도록, 조건을 변경하는 코드가 필수!\n",
    "\n",
    "# 현재 체력\n",
    "# stamina = 5\n",
    "# stamina가 10보다 작은 동안에는 계속 반복\n",
    "# while stamina < 10:\n",
    "#    print(f\"현재 체력: {stamina}, 아직 부족합니다. 운동을 계속합니다!\")\n",
    "#    stamina = stamina + 1 -> 운동을 해서 체력을 1 올립니다(이 코드가 없으면 무한 루프!)\n",
    "# while문이 끝나면 실행\n",
    "# print(f\"목표 체력 도달! 현재 체력: {stamina}\")"
   ]
  },
  {
   "cell_type": "code",
   "execution_count": 35,
   "id": "079240c5-ad8d-46dc-bf36-bd857a707e0a",
   "metadata": {},
   "outputs": [
    {
     "name": "stdout",
     "output_type": "stream",
     "text": [
      "1\n",
      "2\n",
      "3\n",
      "4\n",
      "5\n"
     ]
    }
   ],
   "source": [
    "# while문을 활용하여 순서대로 1 - 5까지 출력하기\n",
    "number = 1\n",
    "\n",
    "while number <= 5:\n",
    "    print(number)\n",
    "    number = number + 1"
   ]
  }
 ],
 "metadata": {
  "kernelspec": {
   "display_name": "Python [conda env:base] *",
   "language": "python",
   "name": "conda-base-py"
  },
  "language_info": {
   "codemirror_mode": {
    "name": "ipython",
    "version": 3
   },
   "file_extension": ".py",
   "mimetype": "text/x-python",
   "name": "python",
   "nbconvert_exporter": "python",
   "pygments_lexer": "ipython3",
   "version": "3.13.5"
  }
 },
 "nbformat": 4,
 "nbformat_minor": 5
}
