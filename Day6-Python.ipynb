{
 "cells": [
  {
   "cell_type": "code",
   "execution_count": 54,
   "id": "ef1bcf8e-63de-45be-b567-41dbcbb63777",
   "metadata": {},
   "outputs": [
    {
     "name": "stdout",
     "output_type": "stream",
     "text": [
      "--- 원본 데이터 ---\n",
      "   name  score   city\n",
      "0  Owen   95.0  Seoul\n",
      "1   Amy   88.0  Busan\n",
      "2  John    NaN   Jeju\n",
      "3   Sue   92.0    NaN\n",
      "\n",
      "--- 결측치 제거 후 ---\n",
      "   name  score   city\n",
      "0  Owen   95.0  Seoul\n",
      "1   Amy   88.0  Busan\n"
     ]
    }
   ],
   "source": [
    "# Pandas - 비어있는 데이터(결측치,NaN) 처리하기\n",
    "# 1. 결측치 제거하기: .dropna()\n",
    "\n",
    "import pandas as pd\n",
    "import numpy as np # numpy는 NaN 값을 만들기 위해 사용함\n",
    "\n",
    "data = {\n",
    "    'name': ['Owen', 'Amy', 'John', 'Sue'],\n",
    "    'score': [95, 88, np.nan, 92],\n",
    "    'city': ['Seoul', 'Busan', 'Jeju', np.nan]\n",
    "}\n",
    "\n",
    "df = pd.DataFrame(data)\n",
    "\n",
    "# 결측치가 있는 모든 행을 제거\n",
    "cleaned_df = df.dropna()\n",
    "\n",
    "print(\"--- 원본 데이터 ---\")\n",
    "print(df)\n",
    "print(\"\\n--- 결측치 제거 후 ---\")\n",
    "print(cleaned_df)"
   ]
  },
  {
   "cell_type": "code",
   "execution_count": 56,
   "id": "6cc8b797-84ed-48e9-8f41-7c5e49bdc7de",
   "metadata": {},
   "outputs": [
    {
     "name": "stdout",
     "output_type": "stream",
     "text": [
      "\n",
      "--- 점수를 0으로 채운 후 ---\n",
      "   name  score   city\n",
      "0  Owen   95.0  Seoul\n",
      "1   Amy   88.0  Busan\n",
      "2  John    0.0   Jeju\n",
      "3   Sue   92.0    NaN\n",
      "\n",
      "--- 점수를 평균으로 채운 후 ---\n",
      "   name      score   city\n",
      "0  Owen  95.000000  Seoul\n",
      "1   Amy  88.000000  Busan\n",
      "2  John  91.666667   Jeju\n",
      "3   Sue  92.000000    NaN\n"
     ]
    }
   ],
   "source": [
    "# 2. 결측치 채우기: .fillna()\n",
    "\n",
    "# 'score' 열의 결측치는 0으로 채우기\n",
    "df_filled_zero = df.copy()\n",
    "df_filled_zero['score'] = df_filled_zero['score'].fillna(0)\n",
    "print(\"\\n--- 점수를 0으로 채운 후 ---\")\n",
    "print(df_filled_zero)\n",
    "\n",
    "# 'score' 열의 결측치를 다른 점수들의 평균값으로 채우기\n",
    "score_mean = df['score'].mean()\n",
    "df_filled_mean = df.copy()\n",
    "df_filled_mean['score'] = df_filled_mean['score'].fillna(score_mean)\n",
    "print(\"\\n--- 점수를 평균으로 채운 후 ---\")\n",
    "print(df_filled_mean)"
   ]
  },
  {
   "cell_type": "code",
   "execution_count": 70,
   "id": "cbcbf20e-efb8-448a-87ce-a622b94c425e",
   "metadata": {},
   "outputs": [
    {
     "name": "stdout",
     "output_type": "stream",
     "text": [
      "--- 원본 데이터 ---\n",
      "  product   price  stock\n",
      "0       A   500.0   20.0\n",
      "1       B     NaN   15.0\n",
      "2       C   800.0    NaN\n",
      "3       D  1200.0    5.0\n",
      "\n",
      "--- 결측치 채우기 ---\n",
      "  product   price      stock\n",
      "0       A   500.0  20.000000\n",
      "1       B     0.0  15.000000\n",
      "2       C   800.0  13.333333\n",
      "3       D  1200.0   5.000000\n"
     ]
    }
   ],
   "source": [
    "import pandas as pd\n",
    "import numpy as np\n",
    "\n",
    "data = {\n",
    "    'product': ['A', 'B', 'C', 'D'],\n",
    "    'price': [500, np.nan, 800, 1200],\n",
    "    'stock': [20, 15, np.nan, 5]\n",
    "}\n",
    "\n",
    "df = pd.DataFrame(data)\n",
    "\n",
    "df_filled = df.copy()\n",
    "\n",
    "df_filled['price'] = df_filled['price'].fillna(0)\n",
    "\n",
    "stock_mean = df_filled['stock'].mean()\n",
    "\n",
    "df_filled['stock'] = df_filled['stock'].fillna(stock_mean)\n",
    "\n",
    "print(\"--- 원본 데이터 ---\")\n",
    "print(df)\n",
    "print(\"\\n--- 결측치 채우기 ---\")\n",
    "print(df_filled)"
   ]
  }
 ],
 "metadata": {
  "kernelspec": {
   "display_name": "Python [conda env:base] *",
   "language": "python",
   "name": "conda-base-py"
  },
  "language_info": {
   "codemirror_mode": {
    "name": "ipython",
    "version": 3
   },
   "file_extension": ".py",
   "mimetype": "text/x-python",
   "name": "python",
   "nbconvert_exporter": "python",
   "pygments_lexer": "ipython3",
   "version": "3.13.5"
  }
 },
 "nbformat": 4,
 "nbformat_minor": 5
}
