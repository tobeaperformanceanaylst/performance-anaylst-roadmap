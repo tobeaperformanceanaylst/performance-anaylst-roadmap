{
 "cells": [
  {
   "cell_type": "code",
   "execution_count": 18,
   "id": "6e919319-bc5e-44a3-9af2-c074722ecaf0",
   "metadata": {},
   "outputs": [],
   "source": [
    "# JOIN - Pandas의 merge와 같이, 여러 테이블에 흩어져 있는 데이터를 공통된 Key를 기준으로 합치는 기능\n",
    "# JOIN의 필요성 - 실제 데이터베이스에서는 데이터를 한 곳에 모두 저장하지 않고, 주제별로 나누어 저장하는데, 이렇게 나뉜 테이블들을 연결해주는 핵심 도구\n",
    "# INNER JOIN: 두 테이블의 교집합 * Pandas의 pd.merge(..., how='inner') 100% 동일한 개념\n",
    "SELECT table1.column1, table2.column1\n",
    "FROM table_A -- 왼쪽 테이블\n",
    "INNER JOIN table_B -- 합칠 오른쪽 테이블\n",
    "ON table_A.common_column = table_B.common_column; -- 두 테이블을 연결할 조건\n",
    "\n",
    "SELECT Students.Name, Clubs.ClubName\n",
    "FROM Students\n",
    "INNER JOIN Clubs\n",
    "ON Students.StudentID = Clubs.StudentID;"
   ]
  },
  {
   "cell_type": "code",
   "execution_count": 22,
   "id": "d9c9c22b-4d43-4ac4-b4f4-6fab8954d54b",
   "metadata": {},
   "outputs": [
    {
     "ename": "IndentationError",
     "evalue": "unexpected indent (811647726.py, line 2)",
     "output_type": "error",
     "traceback": [
      "\u001b[0;36m  Cell \u001b[0;32mIn[22], line 2\u001b[0;36m\u001b[0m\n\u001b[0;31m    E.Department,\u001b[0m\n\u001b[0m    ^\u001b[0m\n\u001b[0;31mIndentationError\u001b[0m\u001b[0;31m:\u001b[0m unexpected indent\n"
     ]
    }
   ],
   "source": [
    "SELECT\n",
    "    E.Department,\n",
    "    AVG(S.Salary) as Average_Salary -- Salary의 평균을 계산하고 별명 붙이기\n",
    "FROM\n",
    "    Employees as E -- Employees 테이블에 E라는 별명 붙이기\n",
    "INNER JOIN\n",
    "    Salaries as S -- Salaries 테이블에 S라는 별명 붙이기\n",
    "ON\n",
    "    E.EmployeeID = S.EmployeeID\n",
    "GROUP BY\n",
    "    E.Department; -- 부서별로 그룹화\n",
    "\n",
    "\n",
    "import pandas as pd\n",
    "import matplotlib.pyplot as plt\n",
    "\n",
    "# 위 SQL 쿼리의 결과를 Pandas DataFrame으로 변환했다고 가정\n",
    "data = {\n",
    "    'Department': ['HR', 'Engineering', 'Marketing', 'Sales'],\n",
    "    'Average_Salary': [75000, 98000, 82000, 88000]\n",
    "}\n",
    "df_department_salary = pd.DataFrame(data)\n",
    "\n",
    "plt.figure()\n",
    "plt.bar(df_department_salary['Department'], df_department_salary['Average_Salary'])\n",
    "plt.title('Average Salary by Department')\n",
    "plt.xlabel('Department')\n",
    "plt.ylabel('Avg Salary')\n",
    "plt.show()"
   ]
  }
 ],
 "metadata": {
  "kernelspec": {
   "display_name": "Python [conda env:base] *",
   "language": "python",
   "name": "conda-base-py"
  },
  "language_info": {
   "codemirror_mode": {
    "name": "ipython",
    "version": 3
   },
   "file_extension": ".py",
   "mimetype": "text/x-python",
   "name": "python",
   "nbconvert_exporter": "python",
   "pygments_lexer": "ipython3",
   "version": "3.13.5"
  }
 },
 "nbformat": 4,
 "nbformat_minor": 5
}
