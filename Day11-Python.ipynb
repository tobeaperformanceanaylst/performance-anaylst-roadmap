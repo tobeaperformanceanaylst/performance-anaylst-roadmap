{
 "cells": [
  {
   "cell_type": "code",
   "execution_count": 48,
   "id": "71bba3a1-8aee-48c7-a300-fee9a69d0541",
   "metadata": {},
   "outputs": [
    {
     "name": "stdout",
     "output_type": "stream",
     "text": [
      "<class 'pandas.core.frame.DataFrame'>\n",
      "RangeIndex: 3 entries, 0 to 2\n",
      "Data columns (total 3 columns):\n",
      " #   Column  Non-Null Count  Dtype \n",
      "---  ------  --------------  ----- \n",
      " 0   ID      3 non-null      int64 \n",
      " 1   Score   3 non-null      object\n",
      " 2   Tier    3 non-null      object\n",
      "dtypes: int64(1), object(2)\n",
      "memory usage: 204.0+ bytes\n",
      "<class 'pandas.core.frame.DataFrame'>\n",
      "RangeIndex: 3 entries, 0 to 2\n",
      "Data columns (total 3 columns):\n",
      " #   Column  Non-Null Count  Dtype \n",
      "---  ------  --------------  ----- \n",
      " 0   ID      3 non-null      int64 \n",
      " 1   Score   3 non-null      int64 \n",
      " 2   Tier    3 non-null      object\n",
      "dtypes: int64(2), object(1)\n",
      "memory usage: 204.0+ bytes\n",
      "<class 'pandas.core.frame.DataFrame'>\n",
      "RangeIndex: 3 entries, 0 to 2\n",
      "Data columns (total 3 columns):\n",
      " #   Column  Non-Null Count  Dtype   \n",
      "---  ------  --------------  -----   \n",
      " 0   ID      3 non-null      int64   \n",
      " 1   Score   3 non-null      int64   \n",
      " 2   Tier    3 non-null      category\n",
      "dtypes: category(1), int64(2)\n",
      "memory usage: 307.0 bytes\n"
     ]
    }
   ],
   "source": [
    "# 데이터 타입(dtype): Pandas의 모든 열(Column)은 각자의 데이터 타입(dtype)을 가짐\n",
    "# int64: 정수 / float64: 실수 / object: 문자열 / category: 카테고리 / datetime64: 날짜와 시간\n",
    "\n",
    "# 데이터 타입 확인하기: .info()\n",
    "import pandas as pd\n",
    "import numpy as np\n",
    "\n",
    "# 예시 데이터\n",
    "df = pd.DataFrame({\n",
    "    'ID': [1, 2, 3],\n",
    "    'Score': ['85', '92', '78'], # 숫자가 문자열로 저장됨\n",
    "    'Tier': ['Gold', 'Silver', 'Gold']\n",
    "})\n",
    "\n",
    "df.info()\n",
    "\n",
    "# 데이터 타입 변환하기: .astype()\n",
    "# Score 열의 타입을 정수(int)로 변환\n",
    "df['Score'] = df['Score'].astype(int)\n",
    "\n",
    "df.info()\n",
    "\n",
    "# category 타입으로 변환하기\n",
    "# Tier 열의 타입을 category로 변환\n",
    "df['Tier'] = df['Tier'].astype('category')\n",
    "\n",
    "df.info()"
   ]
  },
  {
   "cell_type": "code",
   "execution_count": 53,
   "id": "9da136f5-80fb-4a7f-a8fc-d9c2fc802bd0",
   "metadata": {},
   "outputs": [
    {
     "name": "stdout",
     "output_type": "stream",
     "text": [
      "<class 'pandas.core.frame.DataFrame'>\n",
      "RangeIndex: 5 entries, 0 to 4\n",
      "Data columns (total 5 columns):\n",
      " #   Column            Non-Null Count  Dtype   \n",
      "---  ------            --------------  -----   \n",
      " 0   OrderID           5 non-null      int64   \n",
      " 1   OrderDate         5 non-null      object  \n",
      " 2   Price             5 non-null      int64   \n",
      " 3   Status            5 non-null      category\n",
      " 4   Discount_Applied  5 non-null      bool    \n",
      "dtypes: bool(1), category(1), int64(2), object(1)\n",
      "memory usage: 394.0+ bytes\n"
     ]
    },
    {
     "name": "stderr",
     "output_type": "stream",
     "text": [
      "/var/folders/tr/0kk4g1gn13gbyj7c6hd8v2lw0000gn/T/ipykernel_49962/666090839.py:19: FutureWarning: Downcasting object dtype arrays on .fillna, .ffill, .bfill is deprecated and will change in a future version. Call result.infer_objects(copy=False) instead. To opt-in to the future behavior, set `pd.set_option('future.no_silent_downcasting', True)`\n",
      "  df_orders['Discount_Applied'] = df_orders['Discount_Applied'].fillna(False).astype('bool')\n"
     ]
    }
   ],
   "source": [
    "import pandas as pd\n",
    "import numpy as np\n",
    "\n",
    "data = {\n",
    "    'OrderID': [101, 102, 103, 104, 105],\n",
    "    'OrderDate': ['2025-09-01', '2025-09-01', '2025-09-02', '2025-09-03', '2025-09-03'],\n",
    "    'Price': ['1,500', '2,200', '800', '1,250', '3,100'], # 쉼표가 포함된 문자열\n",
    "    'Status': ['Shipped', 'Pending', 'Shipped', 'Cancelled', 'Shipped'], # 배송 상태\n",
    "    'Discount_Applied': [True, False, True, False, np.nan] # 할인 적용 여부\n",
    "}\n",
    "df_orders = pd.DataFrame(data)\n",
    "\n",
    "df_orders['Price'] = df_orders['Price'].str.replace(',', '')\n",
    "\n",
    "df_orders['Price'] = df_orders['Price'].astype(int)\n",
    "\n",
    "df_orders['Status'] = df_orders['Status'].astype('category')\n",
    "\n",
    "df_orders['Discount_Applied'] = df_orders['Discount_Applied'].fillna(False).astype('bool')\n",
    "\n",
    "df_orders.info()"
   ]
  },
  {
   "cell_type": "code",
   "execution_count": null,
   "id": "af17cc20-56dc-4a63-b9bb-8ddf38e8be7f",
   "metadata": {},
   "outputs": [],
   "source": []
  }
 ],
 "metadata": {
  "kernelspec": {
   "display_name": "Python [conda env:base] *",
   "language": "python",
   "name": "conda-base-py"
  },
  "language_info": {
   "codemirror_mode": {
    "name": "ipython",
    "version": 3
   },
   "file_extension": ".py",
   "mimetype": "text/x-python",
   "name": "python",
   "nbconvert_exporter": "python",
   "pygments_lexer": "ipython3",
   "version": "3.13.5"
  }
 },
 "nbformat": 4,
 "nbformat_minor": 5
}
