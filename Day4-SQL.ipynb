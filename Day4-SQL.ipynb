{
 "cells": [
  {
   "cell_type": "code",
   "execution_count": 46,
   "id": "2249f01f-69eb-408f-9111-a3dd99dde2f5",
   "metadata": {},
   "outputs": [],
   "source": [
    "# SOL 데이터 정렬하기 - ORDER BY\n",
    "# ORDER BY: SELECT문으로 가져온 결과 데이터를 특정 열을 기준으로 정렬할 때 사용. 쿼리문의 가장 마지막에 위치함\n",
    "# 정렬 방식 - ASC: 오름차순. 작은 숫자부터 큰 숫자 순서\n",
    "#         - DESC: 내림차순. 큰 숫자부터 작은 숫자 순서\n",
    "\n",
    "# 저렴한 순으로. 오름차순 정리\n",
    "#SELECT * FROM products\n",
    "#ORDER BY price ASC;\n",
    "\n",
    "# 비싼 순으로. 내림차순 정리\n",
    "#SELECT * FROM products\n",
    "#ORDER BY price DESC;\n",
    "\n",
    "# 카테고리 순으로 먼저 정렬 후 비싼 순으로 내림차순\n",
    "#SELECT * FROM products\n",
    "#ORDER BY category ASC, price DESC;\n",
    "\n",
    "# 가장 오래된 직원부터 최신 직원 순서\n",
    "#SELECT * FROM employees\n",
    "#ORDER BY start_year;"
   ]
  },
  {
   "cell_type": "code",
   "execution_count": null,
   "id": "6ce07568-98f0-46ec-ad1b-1f11c45e88a5",
   "metadata": {},
   "outputs": [],
   "source": [
    "# SQL - ORDER BY: 데이터베이스에서 데이터를 가져올 때부터 정렬해서 가져옴. 데티어가 매우 클 때 효율적\n",
    "# Pandas - .sort_values(): 이미 가져온 데이터를 내 컴퓨터에서 다시 정렬함."
   ]
  },
  {
   "cell_type": "code",
   "execution_count": 48,
   "id": "71a08909-3407-44b7-89fb-f9d3a9c2d0d5",
   "metadata": {},
   "outputs": [
    {
     "name": "stdout",
     "output_type": "stream",
     "text": [
      "  subjects  score\n",
      "3   Korean     93\n",
      "0     Math     90\n",
      "2  English     89\n",
      "1  Science     83\n"
     ]
    }
   ],
   "source": [
    "import pandas as pd\n",
    "\n",
    "data = {\n",
    "    'subjects': ['Math', 'Science', 'English', 'Korean'],\n",
    "    'score': [90, 83, 89, 93]\n",
    "}\n",
    "\n",
    "df = pd.DataFrame(data)\n",
    "\n",
    "filtered = df.sort_values(by='score', ascending=False)\n",
    "\n",
    "print(filtered)"
   ]
  }
 ],
 "metadata": {
  "kernelspec": {
   "display_name": "Python [conda env:base] *",
   "language": "python",
   "name": "conda-base-py"
  },
  "language_info": {
   "codemirror_mode": {
    "name": "ipython",
    "version": 3
   },
   "file_extension": ".py",
   "mimetype": "text/x-python",
   "name": "python",
   "nbconvert_exporter": "python",
   "pygments_lexer": "ipython3",
   "version": "3.13.5"
  }
 },
 "nbformat": 4,
 "nbformat_minor": 5
}
